{
 "nbformat": 4,
 "nbformat_minor": 2,
 "metadata": {
  "language_info": {
   "name": "python",
   "codemirror_mode": {
    "name": "ipython",
    "version": 3
   },
   "version": "3.7.4-final"
  },
  "orig_nbformat": 2,
  "file_extension": ".py",
  "mimetype": "text/x-python",
  "name": "python",
  "npconvert_exporter": "python",
  "pygments_lexer": "ipython3",
  "version": 3,
  "kernelspec": {
   "name": "python3",
   "display_name": "Python 3"
  }
 },
 "cells": [
  {
   "cell_type": "markdown",
   "execution_count": null,
   "metadata": {},
   "outputs": [],
   "source": [
    "# Python学习记录"
   ]
  },
  {
   "cell_type": "markdown",
   "execution_count": null,
   "metadata": {},
   "outputs": [],
   "source": [
    "## Python基础"
   ]
  },
  {
   "cell_type": "markdown",
   "execution_count": 1,
   "metadata": {},
   "outputs": [],
   "source": [
    "### 数据和变量"
   ]
  },
  {
   "cell_type": "code",
   "execution_count": 7,
   "metadata": {},
   "outputs": [
    {
     "name": "stdout",
     "output_type": "stream",
     "text": "10 255\n0.1 0.001\nabc abc\nI'm John\nI'm John\nI\\'m John\nline1\nline2\nline3\n"
    }
   ],
   "source": [
    "# 整数\n",
    "print(10, 0xFF)\n",
    "# 浮点数\n",
    "print(0.1, 1e-3)\n",
    "# 字符串\n",
    "print('abc',\"abc\")\n",
    "print('I\\'m John')\n",
    "print(\"I'm John\")\n",
    "print(r'I\\'m John')\n",
    "print('''line1\n",
    "line2\n",
    "line3''')\n"
   ]
  },
  {
   "cell_type": "code",
   "execution_count": 8,
   "metadata": {},
   "outputs": [
    {
     "name": "stdout",
     "output_type": "stream",
     "text": "True\nFalse\nFalse\nNone\n"
    }
   ],
   "source": [
    "# 布尔值\n",
    "print(True and True)\n",
    "print(True and False)\n",
    "print(not True)\n",
    "# 空值\n",
    "print(None)"
   ]
  },
  {
   "cell_type": "markdown",
   "execution_count": null,
   "metadata": {},
   "outputs": [],
   "source": [
    "### 字符串和编码\n",
    "Unicode编码比较长，简化英文编码，节约空间形成变字长UTF-8编码，兼容ASCII编码。  \n",
    "在计算机内存中，统一使用Unicode编码，当需要保存到硬盘或者需要传输的时候，就转换为UTF-8编码。  \n",
    "用记事本编辑的时候，从文件读取的UTF-8字符被转换为Unicode字符到内存里，编辑完成后，保存的时候再把Unicode转换为UTF-8保存到文件。  \n",
    "浏览网页的时候，服务器会把动态生成的Unicode内容转换为UTF-8再传输到浏览器。"
   ]
  },
  {
   "cell_type": "markdown",
   "execution_count": 9,
   "metadata": {},
   "outputs": [
    {
     "ename": "SyntaxError",
     "evalue": "invalid character in identifier (<ipython-input-9-4b2a46f800da>, line 1)",
     "output_type": "error",
     "traceback": [
      "\u001b[1;36m  File \u001b[1;32m\"<ipython-input-9-4b2a46f800da>\"\u001b[1;36m, line \u001b[1;32m1\u001b[0m\n\u001b[1;33m    Python3中使用Unicode编码。\u001b[0m\n\u001b[1;37m                       ^\u001b[0m\n\u001b[1;31mSyntaxError\u001b[0m\u001b[1;31m:\u001b[0m invalid character in identifier\n"
     ]
    }
   ],
   "source": [
    "Python3中的字符串`str`使用Unicode编码。  \n",
    "调用字符的`ord`方法转为Unicode编码的整数值，Unicode编码的整数值调用`chr`方法得到对应的字符。  \n",
    "调用`str`的`encode`方法可转换各种编码的为`bytes`类型进行网络传输。网络传输读取的`bytes`可调用`decode`方法按指定编码还原为`str`。"
   ]
  },
  {
   "cell_type": "code",
   "execution_count": 13,
   "metadata": {},
   "outputs": [
    {
     "name": "stdout",
     "output_type": "stream",
     "text": "65\n中\nb'ABC'\nb'\\xe4\\xb8\\xad\\xe6\\x96\\x87'\nABC\n中文\n"
    }
   ],
   "source": [
    "print(ord('A'))\n",
    "print(chr(20013))\n",
    "print('ABC'.encode('ascii'))\n",
    "print('中文'.encode('utf-8'))\n",
    "print(b'ABC'.decode('ascii'))\n",
    "print(b'\\xe4\\xb8\\xad\\xe6\\x96\\x87'.decode('utf-8'))"
   ]
  },
  {
   "cell_type": "markdown",
   "execution_count": null,
   "metadata": {},
   "outputs": [],
   "source": [
    "在`.py`文件头部声明下列注释可指定`.py`文件的编码类型。\n",
    "```\n",
    "#!/usr/bin/env python3\n",
    "# -*- coding: utf-8 -*-\n",
    "```\n",
    "第一行注释是为了告诉Linux/OS X系统，这是一个Python可执行程序，Windows系统会忽略这个注释；  \n",
    "第二行注释是为了告诉Python解释器，按照UTF-8编码读取源代码，否则，你在源代码中写的中文输出可能会有乱码。仅在注释中声明不能设置`.py`文件编码类型，还应在编辑器中设置编码类型。"
   ]
  },
  {
   "cell_type": "markdown",
   "execution_count": 14,
   "metadata": {},
   "outputs": [
    {
     "name": "stdout",
     "output_type": "stream",
     "text": "I'm John. I'm 22 years old\nHello, 小明, 成绩提升了 17.1%\n"
    }
   ],
   "source": [
    "可使用`%`格式化字符串，不知道用什么就用`%s`转为字符串，`%%`可转义为`%`字符。  \n",
    "还可以用字符串`str`的`format`方法格式化输出，{0}、{1}是传入参数的占位符，指定此处用传入的第几个参数替换。"
   ]
  },
  {
   "cell_type": "code",
   "execution_count": 19,
   "metadata": {},
   "outputs": [
    {
     "name": "stdout",
     "output_type": "stream",
     "text": "I'm John. I'm 22 years old\nHello, 小明, 成绩提升了 17.1%, 小明真棒\n"
    }
   ],
   "source": [
    "print(\"I'm %s. I'm %d years old\" % ('John', 22))\n",
    "print('Hello, {0}, 成绩提升了 {1:.1f}%, {0}真棒'.format('小明', 17.125))"
   ]
  },
  {
   "cell_type": "code",
   "execution_count": 18,
   "metadata": {},
   "outputs": [
    {
     "name": "stdout",
     "output_type": "stream",
     "text": "18.1%\n18.1%\n"
    }
   ],
   "source": [
    "s1 = 72\n",
    "s2 = 85\n",
    "r = 100 * (s2-s1) / s1\n",
    "print('{0:.1f}%'.format(r))\n",
    "print('%.1f%%' % (r))"
   ]
  },
  {
   "cell_type": "markdown",
   "execution_count": null,
   "metadata": {},
   "outputs": [],
   "source": [
    "### list和tuple"
   ]
  },
  {
   "cell_type": "markdown",
   "execution_count": null,
   "metadata": {},
   "outputs": [],
   "source": [
    "`list`类似C++中的`vector`，有序列表，不同是元素类型可不同。  \n",
    "增：`ls.insert(idx, elem)`、`ls.append(elem)`  \n",
    "查：`ls[idx]`，idx从0开始，为负数是倒数  \n",
    "删：`ls.pop(idx=-1)`  \n",
    "改：`ls[idx] = elem`  \n",
    "\n",
    "`tuple`元素不可变，`append`和`insert`不行，但可以`[]`。  \n",
    "元素间关系类似于`pair`，常不带括号接受一对数据`key, value`  \n",
    "单个元素时应用`t = (1,)`  \n",
    "`tuple`中存“指针”时，“指针”值不能变，但指向的对象可变。"
   ]
  },
  {
   "cell_type": "markdown",
   "execution_count": null,
   "metadata": {},
   "outputs": [],
   "source": [
    "### 条件判断、循环\n",
    "条件：\n",
    "```python\n",
    "if <condition0>:\n",
    "    <code0>\n",
    "elif <condition1>:\n",
    "    <code1>\n",
    "else:\n",
    "    <code2>\n",
    "```"
   ]
  },
  {
   "cell_type": "markdown",
   "execution_count": null,
   "metadata": {},
   "outputs": [],
   "source": [
    "`while`循环\n",
    "```python3\n",
    "while <condition>:\n",
    "    <code1>\n",
    "else:\n",
    "    <code2>\n",
    "```\n"
   ]
  },
  {
   "cell_type": "markdown",
   "execution_count": null,
   "metadata": {},
   "outputs": [],
   "source": [
    "`for`循环\n",
    "```python3\n",
    "for <var> in <iterator>:\n",
    "    <code1>\n",
    "for i in range(n):\n",
    "    <code2> # i遍历0到n-1\n",
    "```\n"
   ]
  },
  {
   "cell_type": "markdown",
   "execution_count": null,
   "metadata": {},
   "outputs": [],
   "source": [
    "`continue`进入下一轮循环，`break`跳出循环"
   ]
  },
  {
   "cell_type": "markdown",
   "execution_count": null,
   "metadata": {},
   "outputs": [],
   "source": [
    "### dict和set"
   ]
  },
  {
   "cell_type": "markdown",
   "execution_count": null,
   "metadata": {},
   "outputs": [],
   "source": [
    "`dict`存储key-value对，通过key用Hash算法计算出value所在位置，索引速度快。key必须是不可变类型  \n",
    "增：`d[key] = value`  \n",
    "查：`d[key]`（key不存在时报错）、`d.get(key)`、`key in d`、`d.keys()`、`d.values()`、`d.items()`  \n",
    "删：`d.pop(key)`  \n",
    "改：`d[key] = value`"
   ]
  },
  {
   "cell_type": "code",
   "execution_count": 22,
   "metadata": {},
   "outputs": [
    {
     "name": "stdout",
     "output_type": "stream",
     "text": "True\n2\n3\n{'a': 1, 'b': 2, 'c': 3, 'd': 4}\n{'a': 1, 'b': 2, 'c': 3}\n"
    }
   ],
   "source": [
    "d = {'a':1,'b':2,'c':3}\n",
    "print('a' in d)\n",
    "print(d.get('b'))\n",
    "print(d['c'])\n",
    "d['d'] = 4\n",
    "print(d)\n",
    "d.pop('d')\n",
    "print(d)"
   ]
  },
  {
   "cell_type": "markdown",
   "execution_count": null,
   "metadata": {},
   "outputs": [],
   "source": [
    "`set`为key的集合，无序，无重复元素。  \n",
    "创建：`set([ls])`、`{key1,key2,key3}`  \n",
    "增：`s.add(key)`  \n",
    "删：`s.remove(key)`"
   ]
  },
  {
   "cell_type": "code",
   "execution_count": 24,
   "metadata": {},
   "outputs": [
    {
     "name": "stdout",
     "output_type": "stream",
     "text": "{2, 3}\n{3, 4, 5, 6}\n{3}\n{2, 3, 4, 5, 6}\n"
    }
   ],
   "source": [
    "s1 = {1,2,3}\n",
    "s2 = set([3,4,5])\n",
    "s1.remove(1)\n",
    "s2.add(6)\n",
    "print(s1)\n",
    "print(s2)\n",
    "print(s1&s2)\n",
    "print(s1|s2)"
   ]
  },
  {
   "cell_type": "markdown",
   "execution_count": null,
   "metadata": {},
   "outputs": [],
   "source": [
    "## 函数\n"
   ]
  },
  {
   "cell_type": "markdown",
   "execution_count": 34,
   "metadata": {},
   "outputs": [],
   "source": [
    "### 函数调用和定义"
   ]
  },
  {
   "cell_type": "markdown",
   "execution_count": null,
   "metadata": {},
   "outputs": [],
   "source": [
    "调用函数：`f()`  \n",
    "定义函数：`def f(args):`  \n",
    "检查参数类型：`isinstance(var, (type1, type2))`"
   ]
  },
  {
   "cell_type": "code",
   "execution_count": 29,
   "metadata": {},
   "outputs": [
    {
     "name": "stdout",
     "output_type": "stream",
     "text": "1\n1\n"
    },
    {
     "ename": "TypeError",
     "evalue": "bad type",
     "output_type": "error",
     "traceback": [
      "\u001b[1;31m---------------------------------------------------------------------------\u001b[0m",
      "\u001b[1;31mTypeError\u001b[0m                                 Traceback (most recent call last)",
      "\u001b[1;32m<ipython-input-29-542aaf5d8cbc>\u001b[0m in \u001b[0;36m<module>\u001b[1;34m\u001b[0m\n\u001b[0;32m     11\u001b[0m \u001b[0mvoid\u001b[0m\u001b[1;33m(\u001b[0m\u001b[1;33m)\u001b[0m\u001b[1;33m\u001b[0m\u001b[1;33m\u001b[0m\u001b[0m\n\u001b[0;32m     12\u001b[0m \u001b[0mprint\u001b[0m\u001b[1;33m(\u001b[0m\u001b[0mmy_abs\u001b[0m\u001b[1;33m(\u001b[0m\u001b[1;36m1\u001b[0m\u001b[1;33m)\u001b[0m\u001b[1;33m)\u001b[0m\u001b[1;33m\u001b[0m\u001b[1;33m\u001b[0m\u001b[0m\n\u001b[1;32m---> 13\u001b[1;33m \u001b[0mprint\u001b[0m\u001b[1;33m(\u001b[0m\u001b[0mmy_abs\u001b[0m\u001b[1;33m(\u001b[0m\u001b[1;34m'abc'\u001b[0m\u001b[1;33m)\u001b[0m\u001b[1;33m)\u001b[0m\u001b[1;33m\u001b[0m\u001b[1;33m\u001b[0m\u001b[0m\n\u001b[0m",
      "\u001b[1;32m<ipython-input-29-542aaf5d8cbc>\u001b[0m in \u001b[0;36mmy_abs\u001b[1;34m(x)\u001b[0m\n\u001b[0;32m      1\u001b[0m \u001b[1;32mdef\u001b[0m \u001b[0mmy_abs\u001b[0m\u001b[1;33m(\u001b[0m\u001b[0mx\u001b[0m\u001b[1;33m)\u001b[0m\u001b[1;33m:\u001b[0m\u001b[1;33m\u001b[0m\u001b[1;33m\u001b[0m\u001b[0m\n\u001b[0;32m      2\u001b[0m     \u001b[1;32mif\u001b[0m \u001b[1;32mnot\u001b[0m \u001b[0misinstance\u001b[0m\u001b[1;33m(\u001b[0m\u001b[0mx\u001b[0m\u001b[1;33m,\u001b[0m \u001b[1;33m(\u001b[0m\u001b[0mint\u001b[0m\u001b[1;33m,\u001b[0m \u001b[0mfloat\u001b[0m\u001b[1;33m)\u001b[0m\u001b[1;33m)\u001b[0m\u001b[1;33m:\u001b[0m\u001b[1;33m\u001b[0m\u001b[1;33m\u001b[0m\u001b[0m\n\u001b[1;32m----> 3\u001b[1;33m         \u001b[1;32mraise\u001b[0m \u001b[0mTypeError\u001b[0m\u001b[1;33m(\u001b[0m\u001b[1;34m'bad type'\u001b[0m\u001b[1;33m)\u001b[0m\u001b[1;33m\u001b[0m\u001b[1;33m\u001b[0m\u001b[0m\n\u001b[0m\u001b[0;32m      4\u001b[0m     \u001b[1;32mif\u001b[0m \u001b[0mx\u001b[0m \u001b[1;33m<=\u001b[0m \u001b[1;36m0\u001b[0m\u001b[1;33m:\u001b[0m\u001b[1;33m\u001b[0m\u001b[1;33m\u001b[0m\u001b[0m\n\u001b[0;32m      5\u001b[0m         \u001b[1;32mreturn\u001b[0m \u001b[1;33m-\u001b[0m\u001b[0mx\u001b[0m\u001b[1;33m\u001b[0m\u001b[1;33m\u001b[0m\u001b[0m\n",
      "\u001b[1;31mTypeError\u001b[0m: bad type"
     ]
    }
   ],
   "source": [
    "def my_abs(x):\n",
    "    if not isinstance(x, (int, float)):\n",
    "        raise TypeError('bad type')\n",
    "    if x <= 0:\n",
    "        return -x\n",
    "    else:\n",
    "        return x\n",
    "def void():\n",
    "    pass\n",
    "print(my_abs(-1))\n",
    "void()\n",
    "print(my_abs(1))\n",
    "print(my_abs('abc'))"
   ]
  },
  {
   "cell_type": "markdown",
   "execution_count": null,
   "metadata": {},
   "outputs": [],
   "source": [
    "可用`tuple`实现返回多个值，接受时可不用括号"
   ]
  },
  {
   "cell_type": "code",
   "execution_count": 33,
   "metadata": {},
   "outputs": [
    {
     "name": "stdout",
     "output_type": "stream",
     "text": "1 1\n(1, 1)\n"
    }
   ],
   "source": [
    "def move(x, y):\n",
    "    x += 1\n",
    "    y += 1\n",
    "    return x, y\n",
    "a, b = move(0, 0)\n",
    "print(a,b)\n",
    "print(move(0,0))"
   ]
  },
  {
   "cell_type": "markdown",
   "execution_count": null,
   "metadata": {},
   "outputs": [],
   "source": [
    "### 函数参数"
   ]
  },
  {
   "cell_type": "markdown",
   "execution_count": null,
   "metadata": {},
   "outputs": [],
   "source": [
    "必选参数：定义：`def f(arg1, arg2)`，调用：`f(para1, para2)`。  \n",
    "默认参数：定义：`def f(arg1, arg2=default)`，调用：`f(para1)`、`f(para1, para2)`、`f(para1, arg2=para2)`。默认参数可不按顺序调用。**默认参数在函数中必须不被改变，否则下次调用时不再为默认值**  \n",
    "可变参数：定义：`def f(arg1, arg2=default, *arg3)`，调用：`f(para1, para2, val1, val2, val3)`。默认参数后的任意多个参数组成`tuple`存在arg3中，可通过`val in arg3`遍历。已有list或tuple可通过`f(*ls)`将其转为可变参数传入  \n",
    "命名关键词参数：定义`def f(arg1, arg2=para2, *, key1, key2)`或`def f(arg1, arg2=para2, *args, key1, key2)`，调用：`f(para1, key1=val1, key2=val2)`。**key1和key2必须显式传入**  \n",
    "关键字参数：定义`def f(arg1, arg2, **arg4)`，调用：`f(para1, para2, key1=value1, key2=value2)`。调用时转为`dict`传入arg4。  \n",
    "函数定义参数顺序必须是`def f(pos_only, arg=default, *args, key_only, **kwargs)`，调用时必须是`f(a,b,c,key1=val1,key2=val2,key3=val3)`。位置参数按位置匹配必选、默认参数，多余传入args组成tuple。关键字参数按key匹配默认参数和命名关键字参数，多余传入kwargs组成dict。"
   ]
  },
  {
   "cell_type": "code",
   "execution_count": 41,
   "metadata": {},
   "outputs": [
    {
     "name": "stdout",
     "output_type": "stream",
     "text": "a = 1 , b = 2 , c = 0 , args = () , key1 = b , key2 = 3 , kwargs = {}\na = 1 , b = 2 , c = 3 , args = (4, 5) , key1 = a , key2 = 2 , kwargs = {}\na = 1 , b = 2 , c = 3 , args = (4, 5) , key1 = a , key2 = 2 , kwargs = {'key3': 3}\n"
    }
   ],
   "source": [
    "def f(a, b, c=0, *args, key1='a', key2, **kwargs):\n",
    "    print('a =',a,', b =',b,', c =',c,', args =',args,', key1 =',key1,', key2 =',key2,', kwargs =',kwargs)\n",
    "f(1,2,key1='b',key2=3)\n",
    "f(1,2,3,4,5, key2=2)\n",
    "f(1,2,3,4,5, key2=2, key3=3)"
   ]
  },
  {
   "cell_type": "markdown",
   "execution_count": null,
   "metadata": {},
   "outputs": [],
   "source": [
    "### 函数递归"
   ]
  },
  {
   "cell_type": "code",
   "execution_count": 46,
   "metadata": {},
   "outputs": [
    {
     "name": "stdout",
     "output_type": "stream",
     "text": "A --> C\nA --> B\nC --> B\nA --> C\nB --> A\nB --> C\nA --> C\n"
    }
   ],
   "source": [
    "def move(n, a, b, c):\n",
    "    if n == 1:\n",
    "        print(a, '-->', c)\n",
    "    else:\n",
    "        move(n-1, a, c, b)\n",
    "        print(a, '-->', c)\n",
    "        move(n-1, b, a, c)\n",
    "move(3, 'A', 'B', 'C')"
   ]
  },
  {
   "cell_type": "markdown",
   "execution_count": null,
   "metadata": {},
   "outputs": [],
   "source": [
    "## 高级特性"
   ]
  },
  {
   "cell_type": "markdown",
   "execution_count": null,
   "metadata": {},
   "outputs": [],
   "source": [
    "### 切片"
   ]
  },
  {
   "cell_type": "markdown",
   "execution_count": null,
   "metadata": {},
   "outputs": [],
   "source": [
    "获取`list`或`tuple`部分元素  \n",
    "`beg`和`end`分别表示起始和末尾的下标，负数表示倒数，范围[`beg`, `end`)，`inc`表示增量，负数表示逆序  \n",
    "`ls[beg:end]`  \n",
    "`ls[:end]`  `ls[beg:]`  \n",
    "`ls[beg:end:inc]`  `ls[:end:inc]`  `ls[beg::inc]` "
   ]
  },
  {
   "cell_type": "code",
   "execution_count": 49,
   "metadata": {},
   "outputs": [
    {
     "name": "stdout",
     "output_type": "stream",
     "text": "[1, 2, 3, 4, 5, 6, 7]\n[3, 4, 5, 6, 7, 8, 9]\n[0, 1, 2, 3, 4, 5, 6]\n[0, 2, 4, 6, 8]\n[8, 7, 6]\n"
    }
   ],
   "source": [
    "ls = list(range(10))\n",
    "print(ls[1:-2])\n",
    "print(ls[3:])\n",
    "print(ls[:-3])\n",
    "print(ls[::2])\n",
    "print(ls[-2:-5:-1])"
   ]
  },
  {
   "cell_type": "markdown",
   "execution_count": null,
   "metadata": {},
   "outputs": [],
   "source": [
    "### 迭代"
   ]
  },
  {
   "cell_type": "markdown",
   "execution_count": null,
   "metadata": {},
   "outputs": [],
   "source": [
    "可迭代对象通过`for <element> in <iterator>`遍历元素，内置容器可迭代  \n",
    "`list`或`tuple`: `for v in ls`  \n",
    "`dict`: `for k in d`、`for v in d.values()`、`for k, v in d.items()`  \n",
    "`str`：`for ch in s`  \n",
    "需要下标时调用`enumerate`  \n",
    "`for i, v in enumerate(ls)`  \n",
    "多个元素组成`tuple`返回，可用不带括号的变量对接收"
   ]
  },
  {
   "cell_type": "code",
   "execution_count": 50,
   "metadata": {},
   "outputs": [
    {
     "name": "stdout",
     "output_type": "stream",
     "text": "1\n2\n3\n4\n5\na : 1\nb : 2\nc : 3\na : 1\nb : 2\nc : 3\n"
    }
   ],
   "source": [
    "ls = [1,2,3,4,5]\n",
    "d = {'a':1,'b':2,'c':3}\n",
    "for v in ls:\n",
    "    print(v)\n",
    "for k in d:\n",
    "    print(k,':',d[k])\n",
    "for k,v in d.items():\n",
    "    print(k,':',v)"
   ]
  },
  {
   "cell_type": "markdown",
   "execution_count": null,
   "metadata": {},
   "outputs": [],
   "source": [
    "### 列表生成式"
   ]
  },
  {
   "cell_type": "markdown",
   "execution_count": null,
   "metadata": {},
   "outputs": [],
   "source": [
    "`[<expression x> for x in <iterator x> if <condition>]`  \n",
    "遍历`iterator`中满足条件`condition`的`x`，生成关于`x`的表达式`expression`的序列。"
   ]
  },
  {
   "cell_type": "code",
   "execution_count": 51,
   "metadata": {},
   "outputs": [
    {
     "name": "stdout",
     "output_type": "stream",
     "text": "['hello', 'world']\n"
    }
   ],
   "source": [
    "l1 = ['Hello', 18, 'World']\n",
    "l2 = [s.lower() for s in l1 if isinstance(s, str)]\n",
    "print(l2)"
   ]
  },
  {
   "cell_type": "markdown",
   "execution_count": null,
   "metadata": {},
   "outputs": [],
   "source": [
    "### 生成器"
   ]
  },
  {
   "cell_type": "markdown",
   "execution_count": null,
   "metadata": {},
   "outputs": [],
   "source": [
    "遍历满足一定规律的序列，如由表达式生成的列表，不一定都算出来放入内存，可迭代一次算一次。  \n",
    "生成器定义了序列生成的规律  \n",
    "列表生成式中的[]改为()：`g = (<expression x> for x in <iterator x> if <condition>)`  \n",
    "函数中使用`yield`：  \n",
    "```python3\n",
    "def f(args):\n",
    "    <code>\n",
    "    yield <expression>\n",
    "    <code>\n",
    "g = f(paras)\n",
    "``` \n",
    "基本上初始化一个`list`然后不断`append`元素的序列可采用生成器的方法节约内存。"
   ]
  },
  {
   "cell_type": "markdown",
   "execution_count": null,
   "metadata": {},
   "outputs": [],
   "source": [
    "遍历生成器生成的元素时，可迭代`next(g)`  \n",
    "也可以通过`for x in g`遍历。"
   ]
  },
  {
   "cell_type": "code",
   "execution_count": 2,
   "metadata": {},
   "outputs": [
    {
     "name": "stdout",
     "output_type": "stream",
     "text": "0\n1\n4\n[1]\n[1, 1]\n[1, 2, 1]\n[1, 3, 3, 1]\n[1, 4, 6, 4, 1]\n[1, 5, 10, 10, 5, 1]\n[1, 6, 15, 20, 15, 6, 1]\n[1, 7, 21, 35, 35, 21, 7, 1]\n[1, 8, 28, 56, 70, 56, 28, 8, 1]\n[1, 9, 36, 84, 126, 126, 84, 36, 9, 1]\n"
    }
   ],
   "source": [
    "g = (x*x for x in range(3))\n",
    "for v in g:\n",
    "    print(v)\n",
    "def triangles():\n",
    "    ls = [1]\n",
    "    while True:\n",
    "        yield ls\n",
    "        ls = [0] + ls + [0]\n",
    "        ls = [x + y for x, y in zip(ls[:-1], ls[1:])]\n",
    "        \n",
    "n = 0\n",
    "results = []\n",
    "for t in triangles():\n",
    "    results.append(t)\n",
    "    n = n + 1\n",
    "    if n == 10:\n",
    "        break\n",
    "\n",
    "for t in results:\n",
    "    print(t)"
   ]
  },
  {
   "cell_type": "markdown",
   "execution_count": null,
   "metadata": {},
   "outputs": [],
   "source": [
    "### 迭代器"
   ]
  },
  {
   "cell_type": "markdown",
   "execution_count": null,
   "metadata": {},
   "outputs": [],
   "source": [
    "可迭代对象`iterable`：可作用于`for...in...`循环的对象，如`list`、`tuple`、`str`、`dict`、`set`、生成器等。  \n",
    "迭代器`iterator`：可调用`next`方法的数据流，只有调用`next`时才计算下一元素，如生成器。容器不是，但可用`iter`转换为`iterator`。  \n",
    "`for`循环实际上不断调用`next`遍历元素。"
   ]
  },
  {
   "cell_type": "code",
   "execution_count": 6,
   "metadata": {},
   "outputs": [
    {
     "name": "stdout",
     "output_type": "stream",
     "text": "False\nTrue\n"
    }
   ],
   "source": [
    "from collections import Iterator\n",
    "ls = [0, 1, 2]\n",
    "g = (x for x in range(3))\n",
    "print(isinstance(ls, Iterator))\n",
    "print(isinstance(g, Iterator))"
   ]
  },
  {
   "cell_type": "markdown",
   "execution_count": null,
   "metadata": {},
   "outputs": [],
   "source": [
    "## 函数式编程"
   ]
  },
  {
   "cell_type": "markdown",
   "execution_count": null,
   "metadata": {},
   "outputs": [],
   "source": [
    "### 高阶函数"
   ]
  },
  {
   "cell_type": "markdown",
   "execution_count": null,
   "metadata": {},
   "outputs": [],
   "source": [
    "将函数名`f`作为变量使用。  \n",
    "`map(f, <iterable>)`接收函数`f`，作用于可迭代对象中的各个元素，返回迭代器`<iterator>`。  \n",
    "`reduce(f, <iterable>)`接收可传入两个参数的函数`f`，返回结果和下个元素作为参数传入，如`f(f(x1, x2), x3)`。  \n",
    "`filter(f, <iterable>)`中的`f`作用于元素判断为`True`或`False`，返回<iterable>中判断为`True`的元素的迭代器。采用**惰性计算**，只有用到下一元素时才会用`f`进行判断。  \n",
    "`sorted(<iterable>, key=f)`函数f作用于各元素后再排序。"
   ]
  },
  {
   "cell_type": "code",
   "execution_count": 14,
   "metadata": {},
   "outputs": [
    {
     "name": "stdout",
     "output_type": "stream",
     "text": "[1, 4, 9]\n0\n[1, -3]\n[-3, 1, 2]\n[1, 2, -3]\n"
    }
   ],
   "source": [
    "from functools import reduce\n",
    "ls = [1, 2, -3]\n",
    "ls2 = map(lambda x: x**2, ls)\n",
    "print(list(ls2))\n",
    "s = reduce(lambda x, y: x+y, ls)\n",
    "print(s)\n",
    "odd = filter(lambda x: x%2==1 or x%2==-1, ls)\n",
    "print(list(odd))\n",
    "orig = sorted(ls)\n",
    "print(orig)\n",
    "pos = sorted(ls, key=abs)\n",
    "print(pos)"
   ]
  },
  {
   "cell_type": "markdown",
   "execution_count": null,
   "metadata": {},
   "outputs": [],
   "source": [
    "### 函数作为返回值"
   ]
  },
  {
   "cell_type": "markdown",
   "execution_count": null,
   "metadata": {},
   "outputs": [],
   "source": [
    "在函数内部定义函数并返回，可等到需要使用时再调用函数。  \n",
    "```python\n",
    "def ret_func(args):\n",
    "    def func():\n",
    "        <code>\n",
    "    return func\n",
    "\n",
    "f = ret_func(paras)    # 未执行<code>\n",
    "f()                    # 执行<code>\n",
    "```  \n",
    "内部函数引用外部函数的局部变量时，使用的是**外部函数执行完成后**的值。因此在循环内定义的函数不能使用循环变量，因为调用内部函数时使用循环变量的是循环结束之后的值。"
   ]
  },
  {
   "cell_type": "code",
   "execution_count": 17,
   "metadata": {},
   "outputs": [
    {
     "name": "stdout",
     "output_type": "stream",
     "text": "1 2 3\n"
    }
   ],
   "source": [
    "def createCounter():\n",
    "    def genInt():\n",
    "        n = 1\n",
    "        while True:\n",
    "            yield n\n",
    "            n += 1\n",
    "    gen_cnt = genInt()\n",
    "    def count():\n",
    "        return next(gen_cnt)\n",
    "    return count\n",
    "counter = createCounter()\n",
    "print(counter(), counter(), counter())"
   ]
  },
  {
   "cell_type": "markdown",
   "execution_count": null,
   "metadata": {},
   "outputs": [],
   "source": [
    "### 匿名函数"
   ]
  },
  {
   "cell_type": "markdown",
   "execution_count": null,
   "metadata": {},
   "outputs": [],
   "source": [
    "`lambda x: <expression x>`返回一个函数，传入参数计算表达式，适用于简单函数"
   ]
  },
  {
   "cell_type": "markdown",
   "execution_count": null,
   "metadata": {},
   "outputs": [],
   "source": [
    "### 装饰器"
   ]
  },
  {
   "cell_type": "markdown",
   "execution_count": null,
   "metadata": {},
   "outputs": [],
   "source": [
    "通过定义高阶函数，从而动态使用函数，可达到增强函数功能。"
   ]
  },
  {
   "cell_type": "code",
   "execution_count": 19,
   "metadata": {},
   "outputs": [
    {
     "name": "stdout",
     "output_type": "stream",
     "text": "This is a log\n3\n"
    }
   ],
   "source": [
    "def log(func):\n",
    "    def new_func(*args, **kwargs):\n",
    "        print('This is a log')\n",
    "        return func(*args, **kwargs)\n",
    "    return new_func\n",
    "\n",
    "def add(x, y):\n",
    "    return x + y\n",
    "\n",
    "new_add = log(add)\n",
    "print(new_add(1, 2))"
   ]
  },
  {
   "cell_type": "markdown",
   "execution_count": null,
   "metadata": {},
   "outputs": [],
   "source": [
    "使用装饰器可简化，执行的代码是等价的"
   ]
  },
  {
   "cell_type": "code",
   "execution_count": 20,
   "metadata": {},
   "outputs": [
    {
     "name": "stdout",
     "output_type": "stream",
     "text": "This is a log\n3\n"
    }
   ],
   "source": [
    "def log(func):\n",
    "    def new_func(*args, **kwargs):\n",
    "        print('This is a log')\n",
    "        return func(*args, **kwargs)\n",
    "    return new_func\n",
    "\n",
    "@log\n",
    "def add(x, y):\n",
    "    return x + y\n",
    "print(add(1, 2))"
   ]
  },
  {
   "cell_type": "markdown",
   "execution_count": null,
   "metadata": {},
   "outputs": [],
   "source": [
    "还可以再增加外层函数，从而可向装饰器传参"
   ]
  },
  {
   "cell_type": "code",
   "execution_count": 25,
   "metadata": {},
   "outputs": [
    {
     "name": "stdout",
     "output_type": "stream",
     "text": "log message\n3\nlog message\n3\n"
    }
   ],
   "source": [
    "def log(msg):\n",
    "    def actualLog(func):\n",
    "        def new_func(*args, **kwargs):\n",
    "            print(msg)\n",
    "            return func(*args, **kwargs)\n",
    "        return new_func\n",
    "    return actualLog\n",
    "\n",
    "@log('log message')\n",
    "def add(x, y):\n",
    "    return x + y\n",
    "print(add(1, 2))\n",
    "\n",
    "# 等价于\n",
    "def old_add(x, y):\n",
    "    return x + y\n",
    "actual_log = log('log message')\n",
    "new_add = actual_log(old_add)\n",
    "print(new_add(1, 2))"
   ]
  },
  {
   "cell_type": "markdown",
   "execution_count": null,
   "metadata": {},
   "outputs": [],
   "source": [
    "### 偏函数"
   ]
  },
  {
   "cell_type": "markdown",
   "execution_count": null,
   "metadata": {},
   "outputs": [],
   "source": [
    "`func_less_args = functools.partial(func, arg, key=val)`，将`arg`存到位置参数`*args`的左侧，`key: val`存入`**kwargs`中传入函数`func`，其余参数在调用`func_less_args`时传入，减少传参个数。"
   ]
  },
  {
   "cell_type": "markdown",
   "execution_count": null,
   "metadata": {},
   "outputs": [],
   "source": [
    "## 模块"
   ]
  },
  {
   "cell_type": "markdown",
   "execution_count": null,
   "metadata": {},
   "outputs": [],
   "source": [
    "### 自定义模块"
   ]
  },
  {
   "cell_type": "markdown",
   "execution_count": null,
   "metadata": {},
   "outputs": [],
   "source": [
    "`abc.py`文件是一个模块，模块名`abc`，模块可被其他模块引用，不同模块中可使用相同名字的函数和变量，可避免冲突。  \n",
    "含`.__init__.py`的文件夹`xyz`是一个包，包名`xyz`，文件夹中`abc.py`的模块名为`xyz.abc`。不同包可使用相同名字的模块，可避免模块名的冲突，但自定义模块名不能与内置的模块名冲突。  \n",
    "`xyz`也是模块名，对应的文件是`xyz.__init__.py`。\n",
    "```\n",
    "xyz\n",
    "├─ __init__.py\n",
    "└─ abc.py\n",
    "```"
   ]
  },
  {
   "cell_type": "markdown",
   "execution_count": null,
   "metadata": {},
   "outputs": [],
   "source": [
    "### 使用模块"
   ]
  },
  {
   "cell_type": "markdown",
   "execution_count": null,
   "metadata": {},
   "outputs": [],
   "source": [
    "`import <module_name>`后可显式调用模块中的函数和变量。模块中包括标准注释、模块注释、特殊变量（`__name__`等）、自定义函数、自定义变量。  \n",
    "直接运行模块时模块的`__name__`为`__main__`，被其他模块调用时为别的名字，因此可用`__name__`变量区分是直接运行还是被调用，可编写直接运行时的测试代码。  \n",
    "调用`import <module_name>`后会运行一遍模块对应的`.py`文件，因此不应直接在模块测试代码前写可直接运行的代码，应只定义函数和变量。  \n",
    "模块中的变量（和函数）按名称分为  \n",
    "+ 正常变量：`abc`、`f`等，可直接调用。\n",
    "+ 特殊变量：`__name__`、`__author__`，可直接调用。\n",
    "+ 非公开变量：`_private1`、`__private2`，语法上调用不受限，但建议不直接调用。"
   ]
  },
  {
   "cell_type": "code",
   "execution_count": 30,
   "metadata": {},
   "outputs": [
    {
     "name": "stdout",
     "output_type": "stream",
     "text": "Too many arguments!\n1\n"
    }
   ],
   "source": [
    "import hello\n",
    "hello.test()\n",
    "print(hello.hello_var)"
   ]
  },
  {
   "cell_type": "markdown",
   "execution_count": null,
   "metadata": {},
   "outputs": [],
   "source": [
    "模块搜索路径在`sys`模块的`path`变量中保存，包括当前目录、内置模块和第三方模块安装目录。该变量是一个`list`，可在运行时修改，运行结束后失效。"
   ]
  }
 ]
}