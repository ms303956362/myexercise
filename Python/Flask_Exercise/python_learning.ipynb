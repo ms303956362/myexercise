{
 "cells": [
  {
   "cell_type": "markdown",
   "metadata": {},
   "source": [
    "# Python学习记录"
   ]
  },
  {
   "cell_type": "markdown",
   "metadata": {},
   "source": [
    "## Python基础"
   ]
  },
  {
   "cell_type": "markdown",
   "metadata": {},
   "source": [
    "### 数据和变量"
   ]
  },
  {
   "cell_type": "code",
   "execution_count": 7,
   "metadata": {},
   "outputs": [
    {
     "name": "stdout",
     "output_type": "stream",
     "text": [
      "10 255\n",
      "0.1 0.001\n",
      "abc abc\n",
      "I'm John\n",
      "I'm John\n",
      "I\\'m John\n",
      "line1\n",
      "line2\n",
      "line3\n"
     ]
    }
   ],
   "source": [
    "# 整数\n",
    "print(10, 0xFF)\n",
    "# 浮点数\n",
    "print(0.1, 1e-3)\n",
    "# 字符串\n",
    "print('abc',\"abc\")\n",
    "print('I\\'m John')\n",
    "print(\"I'm John\")\n",
    "print(r'I\\'m John')\n",
    "print('''line1\n",
    "line2\n",
    "line3''')\n"
   ]
  },
  {
   "cell_type": "code",
   "execution_count": 8,
   "metadata": {},
   "outputs": [
    {
     "name": "stdout",
     "output_type": "stream",
     "text": [
      "True\n",
      "False\n",
      "False\n",
      "None\n"
     ]
    }
   ],
   "source": [
    "# 布尔值\n",
    "print(True and True)\n",
    "print(True and False)\n",
    "print(not True)\n",
    "# 空值\n",
    "print(None)"
   ]
  },
  {
   "cell_type": "markdown",
   "metadata": {},
   "source": [
    "### 字符串和编码\n",
    "Unicode编码比较长，简化英文编码，节约空间形成变字长UTF-8编码，兼容ASCII编码。  \n",
    "在计算机内存中，统一使用Unicode编码，当需要保存到硬盘或者需要传输的时候，就转换为UTF-8编码。  \n",
    "用记事本编辑的时候，从文件读取的UTF-8字符被转换为Unicode字符到内存里，编辑完成后，保存的时候再把Unicode转换为UTF-8保存到文件。  \n",
    "浏览网页的时候，服务器会把动态生成的Unicode内容转换为UTF-8再传输到浏览器。"
   ]
  },
  {
   "cell_type": "markdown",
   "metadata": {},
   "source": [
    "Python3中的字符串`str`使用Unicode编码。  \n",
    "调用字符的`ord`方法转为Unicode编码的整数值，Unicode编码的整数值调用`chr`方法得到对应的字符。  \n",
    "调用`str`的`encode`方法可转换各种编码的为`bytes`类型进行网络传输。网络传输读取的`bytes`可调用`decode`方法按指定编码还原为`str`。"
   ]
  },
  {
   "cell_type": "code",
   "execution_count": 13,
   "metadata": {},
   "outputs": [
    {
     "name": "stdout",
     "output_type": "stream",
     "text": [
      "65\n",
      "中\n",
      "b'ABC'\n",
      "b'\\xe4\\xb8\\xad\\xe6\\x96\\x87'\n",
      "ABC\n",
      "中文\n"
     ]
    }
   ],
   "source": [
    "print(ord('A'))\n",
    "print(chr(20013))\n",
    "print('ABC'.encode('ascii'))\n",
    "print('中文'.encode('utf-8'))\n",
    "print(b'ABC'.decode('ascii'))\n",
    "print(b'\\xe4\\xb8\\xad\\xe6\\x96\\x87'.decode('utf-8'))"
   ]
  },
  {
   "cell_type": "markdown",
   "metadata": {},
   "source": [
    "在`.py`文件头部声明下列注释可指定`.py`文件的编码类型。\n",
    "```py\n",
    "#!/usr/bin/env python3\n",
    "# -*- coding: utf-8 -*-\n",
    "```\n",
    "第一行注释是为了告诉Linux/OS X系统，这是一个Python可执行程序，Windows系统会忽略这个注释；  \n",
    "第二行注释是为了告诉Python解释器，按照UTF-8编码读取源代码，否则，你在源代码中写的中文输出可能会有乱码。仅在注释中声明不能设置`.py`文件编码类型，还应在编辑器中设置编码类型。"
   ]
  },
  {
   "cell_type": "markdown",
   "metadata": {},
   "source": [
    "可使用`%`格式化字符串，不知道用什么就用`%s`转为字符串，`%%`可转义为`%`字符。  \n",
    "还可以用字符串`str`的`format`方法格式化输出，{0}、{1}是传入参数的占位符，指定此处用传入的第几个参数替换。"
   ]
  },
  {
   "cell_type": "code",
   "execution_count": 19,
   "metadata": {},
   "outputs": [
    {
     "name": "stdout",
     "output_type": "stream",
     "text": [
      "I'm John. I'm 22 years old\n",
      "Hello, 小明, 成绩提升了 17.1%, 小明真棒\n"
     ]
    }
   ],
   "source": [
    "print(\"I'm %s. I'm %d years old\" % ('John', 22))\n",
    "print('Hello, {0}, 成绩提升了 {1:.1f}%, {0}真棒'.format('小明', 17.125))"
   ]
  },
  {
   "cell_type": "code",
   "execution_count": 18,
   "metadata": {},
   "outputs": [
    {
     "name": "stdout",
     "output_type": "stream",
     "text": [
      "18.1%\n",
      "18.1%\n"
     ]
    }
   ],
   "source": [
    "s1 = 72\n",
    "s2 = 85\n",
    "r = 100 * (s2-s1) / s1\n",
    "print('{0:.1f}%'.format(r))\n",
    "print('%.1f%%' % (r))"
   ]
  },
  {
   "cell_type": "markdown",
   "metadata": {},
   "source": [
    "### list和tuple"
   ]
  },
  {
   "cell_type": "markdown",
   "metadata": {},
   "source": [
    "`list`类似C++中的`vector`，有序列表，不同是元素类型可不同。  \n",
    "增：`ls.insert(idx, elem)`、`ls.append(elem)`  \n",
    "查：`ls[idx]`，idx从0开始，为负数是倒数  \n",
    "删：`ls.pop(idx=-1)`  \n",
    "改：`ls[idx] = elem`  \n",
    "\n",
    "`tuple`元素不可变，`append`和`insert`不行，但可以`[]`。  \n",
    "元素间关系类似于`pair`，常不带括号接受一对数据`key, value`  \n",
    "单个元素时应用`t = (1,)`  \n",
    "`tuple`中存“指针”时，“指针”值不能变，但指向的对象可变。"
   ]
  },
  {
   "cell_type": "markdown",
   "metadata": {},
   "source": [
    "### 条件判断、循环\n",
    "条件：\n",
    "```py\n",
    "if <condition0>:\n",
    "    <code0>\n",
    "elif <condition1>:\n",
    "    <code1>\n",
    "else:\n",
    "    <code2>\n",
    "```"
   ]
  },
  {
   "cell_type": "markdown",
   "metadata": {},
   "source": [
    "`while`循环\n",
    "```python\n",
    "while <condition>:\n",
    "    <code1>\n",
    "else:\n",
    "    <code2>\n",
    "```\n"
   ]
  },
  {
   "cell_type": "markdown",
   "metadata": {},
   "source": [
    "`for`循环\n",
    "```py\n",
    "for <var> in <iterator>:\n",
    "    <code1>\n",
    "for i in range(n):\n",
    "    <code2> # i遍历0到n-1\n",
    "```\n"
   ]
  },
  {
   "cell_type": "markdown",
   "metadata": {},
   "source": [
    "`continue`进入下一轮循环，`break`跳出循环"
   ]
  },
  {
   "cell_type": "markdown",
   "metadata": {},
   "source": [
    "### dict和set"
   ]
  },
  {
   "cell_type": "markdown",
   "metadata": {},
   "source": [
    "`dict`存储key-value对，通过key用Hash算法计算出value所在位置，索引速度快。key必须是不可变类型  \n",
    "增：`d[key] = value`  \n",
    "查：`d[key]`（key不存在时报错）、`d.get(key)`、`key in d`、`d.keys()`、`d.values()`、`d.items()`  \n",
    "删：`d.pop(key)`  \n",
    "改：`d[key] = value`"
   ]
  },
  {
   "cell_type": "code",
   "execution_count": 22,
   "metadata": {},
   "outputs": [
    {
     "name": "stdout",
     "output_type": "stream",
     "text": [
      "True\n",
      "2\n",
      "3\n",
      "{'a': 1, 'b': 2, 'c': 3, 'd': 4}\n",
      "{'a': 1, 'b': 2, 'c': 3}\n"
     ]
    }
   ],
   "source": [
    "d = {'a':1,'b':2,'c':3}\n",
    "print('a' in d)\n",
    "print(d.get('b'))\n",
    "print(d['c'])\n",
    "d['d'] = 4\n",
    "print(d)\n",
    "d.pop('d')\n",
    "print(d)"
   ]
  },
  {
   "cell_type": "markdown",
   "metadata": {},
   "source": [
    "`set`为key的集合，无序，无重复元素。  \n",
    "创建：`set([ls])`、`{key1,key2,key3}`  \n",
    "增：`s.add(key)`  \n",
    "删：`s.remove(key)`"
   ]
  },
  {
   "cell_type": "code",
   "execution_count": 24,
   "metadata": {},
   "outputs": [
    {
     "name": "stdout",
     "output_type": "stream",
     "text": [
      "{2, 3}\n",
      "{3, 4, 5, 6}\n",
      "{3}\n",
      "{2, 3, 4, 5, 6}\n"
     ]
    }
   ],
   "source": [
    "s1 = {1,2,3}\n",
    "s2 = set([3,4,5])\n",
    "s1.remove(1)\n",
    "s2.add(6)\n",
    "print(s1)\n",
    "print(s2)\n",
    "print(s1&s2)\n",
    "print(s1|s2)"
   ]
  },
  {
   "cell_type": "markdown",
   "metadata": {},
   "source": [
    "## 函数\n"
   ]
  },
  {
   "cell_type": "markdown",
   "metadata": {},
   "source": [
    "### 函数调用和定义"
   ]
  },
  {
   "cell_type": "markdown",
   "metadata": {},
   "source": [
    "调用函数：`f()`  \n",
    "定义函数：`def f(args):`  \n",
    "检查参数类型：`isinstance(var, (type1, type2))`"
   ]
  },
  {
   "cell_type": "code",
   "execution_count": 29,
   "metadata": {},
   "outputs": [
    {
     "name": "stdout",
     "output_type": "stream",
     "text": [
      "1\n",
      "1\n"
     ]
    },
    {
     "ename": "TypeError",
     "evalue": "bad type",
     "output_type": "error",
     "traceback": [
      "\u001b[1;31m---------------------------------------------------------------------------\u001b[0m",
      "\u001b[1;31mTypeError\u001b[0m                                 Traceback (most recent call last)",
      "\u001b[1;32m<ipython-input-29-542aaf5d8cbc>\u001b[0m in \u001b[0;36m<module>\u001b[1;34m\u001b[0m\n\u001b[0;32m     11\u001b[0m \u001b[0mvoid\u001b[0m\u001b[1;33m(\u001b[0m\u001b[1;33m)\u001b[0m\u001b[1;33m\u001b[0m\u001b[1;33m\u001b[0m\u001b[0m\n\u001b[0;32m     12\u001b[0m \u001b[0mprint\u001b[0m\u001b[1;33m(\u001b[0m\u001b[0mmy_abs\u001b[0m\u001b[1;33m(\u001b[0m\u001b[1;36m1\u001b[0m\u001b[1;33m)\u001b[0m\u001b[1;33m)\u001b[0m\u001b[1;33m\u001b[0m\u001b[1;33m\u001b[0m\u001b[0m\n\u001b[1;32m---> 13\u001b[1;33m \u001b[0mprint\u001b[0m\u001b[1;33m(\u001b[0m\u001b[0mmy_abs\u001b[0m\u001b[1;33m(\u001b[0m\u001b[1;34m'abc'\u001b[0m\u001b[1;33m)\u001b[0m\u001b[1;33m)\u001b[0m\u001b[1;33m\u001b[0m\u001b[1;33m\u001b[0m\u001b[0m\n\u001b[0m",
      "\u001b[1;32m<ipython-input-29-542aaf5d8cbc>\u001b[0m in \u001b[0;36mmy_abs\u001b[1;34m(x)\u001b[0m\n\u001b[0;32m      1\u001b[0m \u001b[1;32mdef\u001b[0m \u001b[0mmy_abs\u001b[0m\u001b[1;33m(\u001b[0m\u001b[0mx\u001b[0m\u001b[1;33m)\u001b[0m\u001b[1;33m:\u001b[0m\u001b[1;33m\u001b[0m\u001b[1;33m\u001b[0m\u001b[0m\n\u001b[0;32m      2\u001b[0m     \u001b[1;32mif\u001b[0m \u001b[1;32mnot\u001b[0m \u001b[0misinstance\u001b[0m\u001b[1;33m(\u001b[0m\u001b[0mx\u001b[0m\u001b[1;33m,\u001b[0m \u001b[1;33m(\u001b[0m\u001b[0mint\u001b[0m\u001b[1;33m,\u001b[0m \u001b[0mfloat\u001b[0m\u001b[1;33m)\u001b[0m\u001b[1;33m)\u001b[0m\u001b[1;33m:\u001b[0m\u001b[1;33m\u001b[0m\u001b[1;33m\u001b[0m\u001b[0m\n\u001b[1;32m----> 3\u001b[1;33m         \u001b[1;32mraise\u001b[0m \u001b[0mTypeError\u001b[0m\u001b[1;33m(\u001b[0m\u001b[1;34m'bad type'\u001b[0m\u001b[1;33m)\u001b[0m\u001b[1;33m\u001b[0m\u001b[1;33m\u001b[0m\u001b[0m\n\u001b[0m\u001b[0;32m      4\u001b[0m     \u001b[1;32mif\u001b[0m \u001b[0mx\u001b[0m \u001b[1;33m<=\u001b[0m \u001b[1;36m0\u001b[0m\u001b[1;33m:\u001b[0m\u001b[1;33m\u001b[0m\u001b[1;33m\u001b[0m\u001b[0m\n\u001b[0;32m      5\u001b[0m         \u001b[1;32mreturn\u001b[0m \u001b[1;33m-\u001b[0m\u001b[0mx\u001b[0m\u001b[1;33m\u001b[0m\u001b[1;33m\u001b[0m\u001b[0m\n",
      "\u001b[1;31mTypeError\u001b[0m: bad type"
     ]
    }
   ],
   "source": [
    "def my_abs(x):\n",
    "    if not isinstance(x, (int, float)):\n",
    "        raise TypeError('bad type')\n",
    "    if x <= 0:\n",
    "        return -x\n",
    "    else:\n",
    "        return x\n",
    "def void():\n",
    "    pass\n",
    "print(my_abs(-1))\n",
    "void()\n",
    "print(my_abs(1))\n",
    "print(my_abs('abc'))"
   ]
  },
  {
   "cell_type": "markdown",
   "metadata": {},
   "source": [
    "可用`tuple`实现返回多个值，接受时可不用括号"
   ]
  },
  {
   "cell_type": "code",
   "execution_count": 33,
   "metadata": {},
   "outputs": [
    {
     "name": "stdout",
     "output_type": "stream",
     "text": [
      "1 1\n",
      "(1, 1)\n"
     ]
    }
   ],
   "source": [
    "def move(x, y):\n",
    "    x += 1\n",
    "    y += 1\n",
    "    return x, y\n",
    "a, b = move(0, 0)\n",
    "print(a,b)\n",
    "print(move(0,0))"
   ]
  },
  {
   "cell_type": "markdown",
   "metadata": {},
   "source": [
    "### 函数参数"
   ]
  },
  {
   "cell_type": "markdown",
   "metadata": {},
   "source": [
    "必选参数：定义：`def f(arg1, arg2)`，调用：`f(para1, para2)`。  \n",
    "默认参数：定义：`def f(arg1, arg2=default)`，调用：`f(para1)`、`f(para1, para2)`、`f(para1, arg2=para2)`。默认参数可不按顺序调用。**默认参数在函数中必须不被改变，否则下次调用时不再为默认值**  \n",
    "可变参数：定义：`def f(arg1, arg2=default, *arg3)`，调用：`f(para1, para2, val1, val2, val3)`。默认参数后的任意多个参数组成`tuple`存在arg3中，可通过`val in arg3`遍历。已有list或tuple可通过`f(*ls)`将其转为可变参数传入  \n",
    "命名关键词参数：定义`def f(arg1, arg2=para2, *, key1, key2)`或`def f(arg1, arg2=para2, *args, key1, key2)`，调用：`f(para1, key1=val1, key2=val2)`。**key1和key2必须显式传入**  \n",
    "关键字参数：定义`def f(arg1, arg2, **arg4)`，调用：`f(para1, para2, key1=value1, key2=value2)`。调用时转为`dict`传入arg4。  \n",
    "函数定义参数顺序必须是`def f(pos_only, arg=default, *args, key_only, **kwargs)`，调用时必须是`f(a,b,c,key1=val1,key2=val2,key3=val3)`。位置参数按位置匹配必选、默认参数，多余传入args组成tuple。关键字参数按key匹配默认参数和命名关键字参数，多余传入kwargs组成dict。"
   ]
  },
  {
   "cell_type": "code",
   "execution_count": 41,
   "metadata": {},
   "outputs": [
    {
     "name": "stdout",
     "output_type": "stream",
     "text": [
      "a = 1 , b = 2 , c = 0 , args = () , key1 = b , key2 = 3 , kwargs = {}\n",
      "a = 1 , b = 2 , c = 3 , args = (4, 5) , key1 = a , key2 = 2 , kwargs = {}\n",
      "a = 1 , b = 2 , c = 3 , args = (4, 5) , key1 = a , key2 = 2 , kwargs = {'key3': 3}\n"
     ]
    }
   ],
   "source": [
    "def f(a, b, c=0, *args, key1='a', key2, **kwargs):\n",
    "    print('a =',a,', b =',b,', c =',c,', args =',args,', key1 =',key1,', key2 =',key2,', kwargs =',kwargs)\n",
    "f(1,2,key1='b',key2=3)\n",
    "f(1,2,3,4,5, key2=2)\n",
    "f(1,2,3,4,5, key2=2, key3=3)"
   ]
  },
  {
   "cell_type": "markdown",
   "metadata": {},
   "source": [
    "### 函数递归"
   ]
  },
  {
   "cell_type": "code",
   "execution_count": 46,
   "metadata": {},
   "outputs": [
    {
     "name": "stdout",
     "output_type": "stream",
     "text": [
      "A --> C\n",
      "A --> B\n",
      "C --> B\n",
      "A --> C\n",
      "B --> A\n",
      "B --> C\n",
      "A --> C\n"
     ]
    }
   ],
   "source": [
    "def move(n, a, b, c):\n",
    "    if n == 1:\n",
    "        print(a, '-->', c)\n",
    "    else:\n",
    "        move(n-1, a, c, b)\n",
    "        print(a, '-->', c)\n",
    "        move(n-1, b, a, c)\n",
    "move(3, 'A', 'B', 'C')"
   ]
  },
  {
   "cell_type": "markdown",
   "metadata": {},
   "source": [
    "## 高级特性"
   ]
  },
  {
   "cell_type": "markdown",
   "metadata": {},
   "source": [
    "### 切片"
   ]
  },
  {
   "cell_type": "markdown",
   "metadata": {},
   "source": [
    "获取`list`或`tuple`部分元素  \n",
    "`beg`和`end`分别表示起始和末尾的下标，负数表示倒数，范围[`beg`, `end`)，`inc`表示增量，负数表示逆序  \n",
    "`ls[beg:end]`  \n",
    "`ls[:end]`  `ls[beg:]`  \n",
    "`ls[beg:end:inc]`  `ls[:end:inc]`  `ls[beg::inc]` "
   ]
  },
  {
   "cell_type": "code",
   "execution_count": 49,
   "metadata": {},
   "outputs": [
    {
     "name": "stdout",
     "output_type": "stream",
     "text": [
      "[1, 2, 3, 4, 5, 6, 7]\n",
      "[3, 4, 5, 6, 7, 8, 9]\n",
      "[0, 1, 2, 3, 4, 5, 6]\n",
      "[0, 2, 4, 6, 8]\n",
      "[8, 7, 6]\n"
     ]
    }
   ],
   "source": [
    "ls = list(range(10))\n",
    "print(ls[1:-2])\n",
    "print(ls[3:])\n",
    "print(ls[:-3])\n",
    "print(ls[::2])\n",
    "print(ls[-2:-5:-1])"
   ]
  },
  {
   "cell_type": "markdown",
   "metadata": {},
   "source": [
    "### 迭代"
   ]
  },
  {
   "cell_type": "markdown",
   "metadata": {},
   "source": [
    "可迭代对象通过`for <element> in <iterator>`遍历元素，内置容器可迭代  \n",
    "`list`或`tuple`: `for v in ls`  \n",
    "`dict`: `for k in d`、`for v in d.values()`、`for k, v in d.items()`  \n",
    "`str`：`for ch in s`  \n",
    "需要下标时调用`enumerate`  \n",
    "`for i, v in enumerate(ls)`  \n",
    "多个元素组成`tuple`返回，可用不带括号的变量对接收"
   ]
  },
  {
   "cell_type": "code",
   "execution_count": 50,
   "metadata": {},
   "outputs": [
    {
     "name": "stdout",
     "output_type": "stream",
     "text": [
      "1\n",
      "2\n",
      "3\n",
      "4\n",
      "5\n",
      "a : 1\n",
      "b : 2\n",
      "c : 3\n",
      "a : 1\n",
      "b : 2\n",
      "c : 3\n"
     ]
    }
   ],
   "source": [
    "ls = [1,2,3,4,5]\n",
    "d = {'a':1,'b':2,'c':3}\n",
    "for v in ls:\n",
    "    print(v)\n",
    "for k in d:\n",
    "    print(k,':',d[k])\n",
    "for k,v in d.items():\n",
    "    print(k,':',v)"
   ]
  },
  {
   "cell_type": "markdown",
   "metadata": {},
   "source": [
    "### 列表生成式"
   ]
  },
  {
   "cell_type": "markdown",
   "metadata": {},
   "source": [
    "`[<expression x> for x in <iterator x> if <condition>]`  \n",
    "遍历`iterator`中满足条件`condition`的`x`，生成关于`x`的表达式`expression`的序列。"
   ]
  },
  {
   "cell_type": "code",
   "execution_count": 51,
   "metadata": {},
   "outputs": [
    {
     "name": "stdout",
     "output_type": "stream",
     "text": [
      "['hello', 'world']\n"
     ]
    }
   ],
   "source": [
    "l1 = ['Hello', 18, 'World']\n",
    "l2 = [s.lower() for s in l1 if isinstance(s, str)]\n",
    "print(l2)"
   ]
  },
  {
   "cell_type": "markdown",
   "metadata": {},
   "source": [
    "### 生成器"
   ]
  },
  {
   "cell_type": "markdown",
   "metadata": {},
   "source": [
    "遍历满足一定规律的序列，如由表达式生成的列表，不一定都算出来放入内存，可迭代一次算一次。  \n",
    "生成器定义了序列生成的规律  \n",
    "列表生成式中的[]改为()：`g = (<expression x> for x in <iterator x> if <condition>)`  \n",
    "函数中使用`yield`：  \n",
    "```py\n",
    "def f(args):\n",
    "    <code>\n",
    "    yield <expression>\n",
    "    <code>\n",
    "g = f(paras)\n",
    "``` \n",
    "基本上初始化一个`list`然后不断`append`元素的序列可采用生成器的方法节约内存。"
   ]
  },
  {
   "cell_type": "markdown",
   "metadata": {},
   "source": [
    "遍历生成器生成的元素时，可迭代`next(g)`  \n",
    "也可以通过`for x in g`遍历。"
   ]
  },
  {
   "cell_type": "code",
   "execution_count": 2,
   "metadata": {},
   "outputs": [
    {
     "name": "stdout",
     "output_type": "stream",
     "text": [
      "0\n",
      "1\n",
      "4\n",
      "[1]\n",
      "[1, 1]\n",
      "[1, 2, 1]\n",
      "[1, 3, 3, 1]\n",
      "[1, 4, 6, 4, 1]\n",
      "[1, 5, 10, 10, 5, 1]\n",
      "[1, 6, 15, 20, 15, 6, 1]\n",
      "[1, 7, 21, 35, 35, 21, 7, 1]\n",
      "[1, 8, 28, 56, 70, 56, 28, 8, 1]\n",
      "[1, 9, 36, 84, 126, 126, 84, 36, 9, 1]\n"
     ]
    }
   ],
   "source": [
    "g = (x*x for x in range(3))\n",
    "for v in g:\n",
    "    print(v)\n",
    "def triangles():\n",
    "    ls = [1]\n",
    "    while True:\n",
    "        yield ls\n",
    "        ls = [0] + ls + [0]\n",
    "        ls = [x + y for x, y in zip(ls[:-1], ls[1:])]\n",
    "        \n",
    "n = 0\n",
    "results = []\n",
    "for t in triangles():\n",
    "    results.append(t)\n",
    "    n = n + 1\n",
    "    if n == 10:\n",
    "        break\n",
    "\n",
    "for t in results:\n",
    "    print(t)"
   ]
  },
  {
   "cell_type": "markdown",
   "metadata": {},
   "source": [
    "### 迭代器"
   ]
  },
  {
   "cell_type": "markdown",
   "metadata": {},
   "source": [
    "可迭代对象`iterable`：可作用于`for...in...`循环的对象，如`list`、`tuple`、`str`、`dict`、`set`、生成器等。  \n",
    "迭代器`iterator`：可调用`next`方法的数据流，只有调用`next`时才计算下一元素，如生成器。容器不是，但可用`iter`转换为`iterator`。  \n",
    "`for`循环实际上不断调用`next`遍历元素。"
   ]
  },
  {
   "cell_type": "code",
   "execution_count": 6,
   "metadata": {},
   "outputs": [
    {
     "name": "stdout",
     "output_type": "stream",
     "text": [
      "False\n",
      "True\n"
     ]
    }
   ],
   "source": [
    "from collections import Iterator\n",
    "ls = [0, 1, 2]\n",
    "g = (x for x in range(3))\n",
    "print(isinstance(ls, Iterator))\n",
    "print(isinstance(g, Iterator))"
   ]
  },
  {
   "cell_type": "markdown",
   "metadata": {},
   "source": [
    "## 函数式编程"
   ]
  },
  {
   "cell_type": "markdown",
   "metadata": {},
   "source": [
    "### 高阶函数"
   ]
  },
  {
   "cell_type": "markdown",
   "metadata": {},
   "source": [
    "将函数名`f`作为变量使用。  \n",
    "`map(f, <iterable>)`接收函数`f`，作用于可迭代对象中的各个元素，返回迭代器`<iterator>`。  \n",
    "`reduce(f, <iterable>)`接收可传入两个参数的函数`f`，返回结果和下个元素作为参数传入，如`f(f(x1, x2), x3)`。  \n",
    "`filter(f, <iterable>)`中的`f`作用于元素判断为`True`或`False`，返回<iterable>中判断为`True`的元素的迭代器。采用**惰性计算**，只有用到下一元素时才会用`f`进行判断。  \n",
    "`sorted(<iterable>, key=f)`函数f作用于各元素后再排序。"
   ]
  },
  {
   "cell_type": "code",
   "execution_count": 14,
   "metadata": {},
   "outputs": [
    {
     "name": "stdout",
     "output_type": "stream",
     "text": [
      "[1, 4, 9]\n",
      "0\n",
      "[1, -3]\n",
      "[-3, 1, 2]\n",
      "[1, 2, -3]\n"
     ]
    }
   ],
   "source": [
    "from functools import reduce\n",
    "ls = [1, 2, -3]\n",
    "ls2 = map(lambda x: x**2, ls)\n",
    "print(list(ls2))\n",
    "s = reduce(lambda x, y: x+y, ls)\n",
    "print(s)\n",
    "odd = filter(lambda x: x%2==1 or x%2==-1, ls)\n",
    "print(list(odd))\n",
    "orig = sorted(ls)\n",
    "print(orig)\n",
    "pos = sorted(ls, key=abs)\n",
    "print(pos)"
   ]
  },
  {
   "cell_type": "markdown",
   "metadata": {},
   "source": [
    "### 函数作为返回值"
   ]
  },
  {
   "cell_type": "markdown",
   "metadata": {},
   "source": [
    "在函数内部定义函数并返回，可等到需要使用时再调用函数。  \n",
    "```py\n",
    "def ret_func(args):\n",
    "    def func():\n",
    "        <code>\n",
    "    return func\n",
    "\n",
    "f = ret_func(paras)    # 未执行<code>\n",
    "f()                    # 执行<code>\n",
    "```  \n",
    "内部函数引用外部函数的局部变量时，使用的是**外部函数执行完成后**的值。因此在循环内定义的函数不能使用循环变量，因为调用内部函数时使用循环变量的是循环结束之后的值。"
   ]
  },
  {
   "cell_type": "code",
   "execution_count": 17,
   "metadata": {},
   "outputs": [
    {
     "name": "stdout",
     "output_type": "stream",
     "text": [
      "1 2 3\n"
     ]
    }
   ],
   "source": [
    "def createCounter():\n",
    "    def genInt():\n",
    "        n = 1\n",
    "        while True:\n",
    "            yield n\n",
    "            n += 1\n",
    "    gen_cnt = genInt()\n",
    "    def count():\n",
    "        return next(gen_cnt)\n",
    "    return count\n",
    "counter = createCounter()\n",
    "print(counter(), counter(), counter())"
   ]
  },
  {
   "cell_type": "markdown",
   "metadata": {},
   "source": [
    "### 匿名函数"
   ]
  },
  {
   "cell_type": "markdown",
   "metadata": {},
   "source": [
    "`lambda x: <expression x>`返回一个函数，传入参数计算表达式，适用于简单函数"
   ]
  },
  {
   "cell_type": "markdown",
   "metadata": {},
   "source": [
    "### 装饰器"
   ]
  },
  {
   "cell_type": "markdown",
   "metadata": {},
   "source": [
    "通过定义高阶函数，从而动态使用函数，可达到增强函数功能。"
   ]
  },
  {
   "cell_type": "code",
   "execution_count": 19,
   "metadata": {},
   "outputs": [
    {
     "name": "stdout",
     "output_type": "stream",
     "text": [
      "This is a log\n",
      "3\n"
     ]
    }
   ],
   "source": [
    "def log(func):\n",
    "    def new_func(*args, **kwargs):\n",
    "        print('This is a log')\n",
    "        return func(*args, **kwargs)\n",
    "    return new_func\n",
    "\n",
    "def add(x, y):\n",
    "    return x + y\n",
    "\n",
    "new_add = log(add)\n",
    "print(new_add(1, 2))"
   ]
  },
  {
   "cell_type": "markdown",
   "metadata": {},
   "source": [
    "使用装饰器可简化，执行的代码是等价的"
   ]
  },
  {
   "cell_type": "code",
   "execution_count": 20,
   "metadata": {},
   "outputs": [
    {
     "name": "stdout",
     "output_type": "stream",
     "text": [
      "This is a log\n",
      "3\n"
     ]
    }
   ],
   "source": [
    "def log(func):\n",
    "    def new_func(*args, **kwargs):\n",
    "        print('This is a log')\n",
    "        return func(*args, **kwargs)\n",
    "    return new_func\n",
    "\n",
    "@log\n",
    "def add(x, y):\n",
    "    return x + y\n",
    "print(add(1, 2))"
   ]
  },
  {
   "cell_type": "markdown",
   "metadata": {},
   "source": [
    "还可以再增加外层函数，从而可向装饰器传参"
   ]
  },
  {
   "cell_type": "code",
   "execution_count": 25,
   "metadata": {},
   "outputs": [
    {
     "name": "stdout",
     "output_type": "stream",
     "text": [
      "log message\n",
      "3\n",
      "log message\n",
      "3\n"
     ]
    }
   ],
   "source": [
    "def log(msg):\n",
    "    def actualLog(func):\n",
    "        def new_func(*args, **kwargs):\n",
    "            print(msg)\n",
    "            return func(*args, **kwargs)\n",
    "        return new_func\n",
    "    return actualLog\n",
    "\n",
    "@log('log message')\n",
    "def add(x, y):\n",
    "    return x + y\n",
    "print(add(1, 2))\n",
    "\n",
    "# 等价于\n",
    "def old_add(x, y):\n",
    "    return x + y\n",
    "actual_log = log('log message')\n",
    "new_add = actual_log(old_add)\n",
    "print(new_add(1, 2))"
   ]
  },
  {
   "cell_type": "markdown",
   "metadata": {},
   "source": [
    "### 偏函数"
   ]
  },
  {
   "cell_type": "markdown",
   "metadata": {},
   "source": [
    "`func_less_args = functools.partial(func, arg, key=val)`，将`arg`存到位置参数`*args`的左侧，`key: val`存入`**kwargs`中传入函数`func`，其余参数在调用`func_less_args`时传入，减少传参个数。"
   ]
  },
  {
   "cell_type": "markdown",
   "metadata": {},
   "source": [
    "## 模块"
   ]
  },
  {
   "cell_type": "markdown",
   "metadata": {},
   "source": [
    "### 自定义模块"
   ]
  },
  {
   "cell_type": "markdown",
   "metadata": {},
   "source": [
    "`abc.py`文件是一个模块，模块名`abc`，模块可被其他模块引用，不同模块中可使用相同名字的函数和变量，可避免冲突。  \n",
    "含`.__init__.py`的文件夹`xyz`是一个包，包名`xyz`，文件夹中`abc.py`的模块名为`xyz.abc`。不同包可使用相同名字的模块，可避免模块名的冲突，但自定义模块名不能与内置的模块名冲突。  \n",
    "`xyz`也是模块名，对应的文件是`xyz.__init__.py`。\n",
    "```\n",
    "xyz\n",
    "├─ __init__.py\n",
    "└─ abc.py\n",
    "```"
   ]
  },
  {
   "cell_type": "markdown",
   "metadata": {},
   "source": [
    "### 使用模块"
   ]
  },
  {
   "cell_type": "markdown",
   "metadata": {},
   "source": [
    "`import <module_name>`后可显式调用模块中的函数和变量。模块中包括标准注释、模块注释、特殊变量（`__name__`等）、自定义函数、自定义变量。  \n",
    "直接运行模块时模块的`__name__`为`__main__`，被其他模块调用时为别的名字，因此可用`__name__`变量区分是直接运行还是被调用，可编写直接运行时的测试代码。  \n",
    "调用`import <module_name>`后会运行一遍模块对应的`.py`文件，因此不应直接在模块测试代码前写可直接运行的代码，应只定义函数和变量。  \n",
    "模块中的变量（和函数）按名称分为  \n",
    "+ 正常变量：`abc`、`f`等，可直接调用。\n",
    "+ 特殊变量：`__name__`、`__author__`，可直接调用。\n",
    "+ 非公开变量：`_private1`、`__private2`，语法上调用不受限，但建议不直接调用。"
   ]
  },
  {
   "cell_type": "code",
   "execution_count": 30,
   "metadata": {},
   "outputs": [
    {
     "name": "stdout",
     "output_type": "stream",
     "text": [
      "Too many arguments!\n",
      "1\n"
     ]
    }
   ],
   "source": [
    "import hello\n",
    "hello.test()\n",
    "print(hello.hello_var)"
   ]
  },
  {
   "cell_type": "markdown",
   "metadata": {},
   "source": [
    "模块搜索路径在`sys`模块的`path`变量中保存，包括当前目录、内置模块和第三方模块安装目录。该变量是一个`list`，可在运行时修改，运行结束后失效。"
   ]
  },
  {
   "cell_type": "markdown",
   "metadata": {},
   "source": [
    "## 面向对象编程"
   ]
  },
  {
   "cell_type": "markdown",
   "metadata": {},
   "source": [
    "### 类和实例"
   ]
  },
  {
   "cell_type": "markdown",
   "metadata": {},
   "source": [
    "`class T(FT)`为类的定义，`T`为类名，从`FT`类继承。  \n",
    "特殊方法`__init__`类似C++中的构造函数，创建实例时调用，第一个参数`self`表示实例本身，调用时不需要传入，解释器自己传入。  \n",
    "```py\n",
    "class T(FT):\n",
    "    def __init__(self, arg1, arg2):\n",
    "        self.prop1 = arg1\n",
    "        self.prop2 = arg2\n",
    "```\n",
    "`obj = T(para1, para2)`创建实例。  \n",
    "在类的内部定义方法第一个参数为`self`，表示实例本身，调用时不需要传入。"
   ]
  },
  {
   "cell_type": "code",
   "execution_count": 1,
   "metadata": {},
   "outputs": [],
   "source": [
    "class Student(object):\n",
    "    def __init__(self, name, score):\n",
    "        self.name = name\n",
    "        self.score = score\n",
    "    \n",
    "    def print_score(self):\n",
    "        print('%s: %s' % (self.name, self.score))\n",
    "    \n",
    "    def get_grade(self):\n",
    "        if self.score >= 90:\n",
    "            return 'A'\n",
    "        elif self.score >= 60:\n",
    "            return 'B'\n",
    "        else:\n",
    "            return 'C'"
   ]
  },
  {
   "cell_type": "code",
   "execution_count": 2,
   "metadata": {},
   "outputs": [
    {
     "name": "stdout",
     "output_type": "stream",
     "text": [
      "Lisa A\n"
     ]
    }
   ],
   "source": [
    "lisa = Student('Lisa', 99)\n",
    "print(lisa.name, lisa.get_grade())"
   ]
  },
  {
   "cell_type": "markdown",
   "metadata": {},
   "source": [
    "### 访问限制"
   ]
  },
  {
   "cell_type": "markdown",
   "metadata": {},
   "source": [
    "访问实例的属性可直接`obj.prop`，如果名字前加两个下划线，可变为私有属性`obj.__prop`，不能直接访问了。但实际操作是把`obj.__prop`变为了`obj._T__prop`，可通过这个属性名访问。注意不要动态添加属性`obj.__prop = para`，这样相当于从外部动态添加属性。比较好的做法是编写`obj.set_prop(args)`和`obj.get_prop()`方法读写属性，好处是可以对传入参数进行类型检查。"
   ]
  },
  {
   "cell_type": "markdown",
   "metadata": {},
   "source": [
    "### 继承和多态"
   ]
  },
  {
   "cell_type": "markdown",
   "metadata": {},
   "source": [
    "`T`类继承了`FT`类，`T`类为`FT`的子类，`FT`为`T`的父类。子类可以调用父类的所有方法，也可以在子类中重新定义，覆盖父类，优先调用子类同名的方法。这样的好处是编写函数可更“泛型”，只要一个类有该函数所要调用的方法，则这个类的实例就可以传入函数，其所有子类的实例也可以传入函数，无需知道具体是哪个子类。"
   ]
  },
  {
   "cell_type": "code",
   "execution_count": 7,
   "metadata": {},
   "outputs": [],
   "source": [
    "class Animal(object):\n",
    "    def run(self):\n",
    "        print('Animal is running')\n",
    "\n",
    "class Dog(Animal):\n",
    "    def bark(self):\n",
    "        print('bark!')\n",
    "\n",
    "class Cat(Animal):\n",
    "    def run(self):\n",
    "        print('Cat is running')\n",
    "def run_twice(animal):\n",
    "    animal.run()\n",
    "    animal.run()"
   ]
  },
  {
   "cell_type": "code",
   "execution_count": 8,
   "metadata": {},
   "outputs": [
    {
     "name": "stdout",
     "output_type": "stream",
     "text": [
      "Animal is running\n",
      "Animal is running\n",
      "Cat is running\n",
      "Cat is running\n"
     ]
    }
   ],
   "source": [
    "dog = Dog()\n",
    "cat = Cat()\n",
    "run_twice(dog)\n",
    "run_twice(cat)"
   ]
  },
  {
   "cell_type": "markdown",
   "metadata": {},
   "source": [
    "### 获取对象信息"
   ]
  },
  {
   "cell_type": "markdown",
   "metadata": {},
   "source": [
    "`isinstance(ogj, T)`可以判断`obj`是否为`T`类或`T`类的父类的实例，其中`T`可改为一些类组成的`tuple`或`list`。`type(obj)`返回实例`obj`所属的类，不能反映父类。  \n",
    "`dir(obj)`返回实例`obj`所有属性和方法，其中`__xxx__`方法为特殊方法，很多方法类似C++中的重载运算符，例如`len(obj)`等价于`obj.__len__()`。  \n",
    "`getattr(obj, 'prop')`、`setattr(obj, 'prop', para)`、`hasattr(obj, 'prop')`分别获取、设置、判断属性。"
   ]
  },
  {
   "cell_type": "markdown",
   "metadata": {},
   "source": [
    "### 实例属性和类属性"
   ]
  },
  {
   "cell_type": "markdown",
   "metadata": {},
   "source": [
    "实例属性归属于各个实例，各实例可动态绑定和修改，类属性归属于类，所有实例都可以访问，也可以由类名访问，类似于C++类中的静态成员。两种属性重名时实例属性优先级高于类属性。"
   ]
  },
  {
   "cell_type": "code",
   "execution_count": 14,
   "metadata": {},
   "outputs": [],
   "source": [
    "class Test(object):\n",
    "    count = 0\n",
    "    def __init__(self, cnt):\n",
    "        Test.count += 1\n",
    "        self.count = cnt"
   ]
  },
  {
   "cell_type": "code",
   "execution_count": 15,
   "metadata": {},
   "outputs": [
    {
     "name": "stdout",
     "output_type": "stream",
     "text": [
      "1\n",
      "2\n",
      "2\n"
     ]
    }
   ],
   "source": [
    "t = Test(1)\n",
    "t2 = Test(1)\n",
    "print(t.count)\n",
    "print(Test.count)\n",
    "del t.count\n",
    "print(t.count)"
   ]
  },
  {
   "cell_type": "markdown",
   "metadata": {},
   "source": [
    "### `__slots__`"
   ]
  },
  {
   "cell_type": "markdown",
   "metadata": {},
   "source": [
    "可以给实例动态增加属性`obj.prop = para`，也可以给实例动态增加方法，假设已定义函数`method`，`obj.method = MethodType(method, obj)`，但只能给`obj`实例增加，同类其他实例不行，通过`T.method = method`可以给类动态增加方法。  \n",
    "类的特殊变量`__slots__`可以规定**实例动态增加属性和方法**限制，`__slots__ = ('prop1', 'prop2')`。子类不定义`__slots__`时父类的`__slots__`不起作用，定义时子类可定义的属性为子类和父类`__slots__`规定的属性。"
   ]
  },
  {
   "cell_type": "markdown",
   "metadata": {},
   "source": [
    "### `@property`"
   ]
  },
  {
   "cell_type": "markdown",
   "metadata": {},
   "source": [
    "直接读取属性或赋值不安全，通过`get`和`set`方法虽然可以检查类型，但太麻烦。通过对`get`方法使用`@property`装饰器可以使`var = obj.prop`等价于`var = obj.get_prop()`，对`set`方法使用`@prop.setter`可以使`obj.prop = para`等价于`obj.set_prop(para)`。"
   ]
  },
  {
   "cell_type": "code",
   "execution_count": 16,
   "metadata": {},
   "outputs": [],
   "source": [
    "class Test_name(object):\n",
    "    @property\n",
    "    def name(self):\n",
    "        return self.__name\n",
    "    @name.setter\n",
    "    def name(self, name):\n",
    "        if not isinstance(name, str):\n",
    "            raise TypeError(\"name must be a string\")\n",
    "        self.__name = name"
   ]
  },
  {
   "cell_type": "code",
   "execution_count": 19,
   "metadata": {},
   "outputs": [
    {
     "name": "stdout",
     "output_type": "stream",
     "text": [
      "John\n"
     ]
    },
    {
     "ename": "TypeError",
     "evalue": "name must be a string",
     "output_type": "error",
     "traceback": [
      "\u001b[1;31m---------------------------------------------------------------------------\u001b[0m",
      "\u001b[1;31mTypeError\u001b[0m                                 Traceback (most recent call last)",
      "\u001b[1;32m<ipython-input-19-7d3ac07d5f51>\u001b[0m in \u001b[0;36m<module>\u001b[1;34m\u001b[0m\n\u001b[0;32m      2\u001b[0m \u001b[0ma\u001b[0m\u001b[1;33m.\u001b[0m\u001b[0mname\u001b[0m \u001b[1;33m=\u001b[0m \u001b[1;34m'John'\u001b[0m\u001b[1;33m\u001b[0m\u001b[1;33m\u001b[0m\u001b[0m\n\u001b[0;32m      3\u001b[0m \u001b[0mprint\u001b[0m\u001b[1;33m(\u001b[0m\u001b[0ma\u001b[0m\u001b[1;33m.\u001b[0m\u001b[0mname\u001b[0m\u001b[1;33m)\u001b[0m\u001b[1;33m\u001b[0m\u001b[1;33m\u001b[0m\u001b[0m\n\u001b[1;32m----> 4\u001b[1;33m \u001b[0ma\u001b[0m\u001b[1;33m.\u001b[0m\u001b[0mname\u001b[0m \u001b[1;33m=\u001b[0m \u001b[1;36m1\u001b[0m\u001b[1;33m\u001b[0m\u001b[1;33m\u001b[0m\u001b[0m\n\u001b[0m",
      "\u001b[1;32m<ipython-input-16-c1e999c323ad>\u001b[0m in \u001b[0;36mname\u001b[1;34m(self, name)\u001b[0m\n\u001b[0;32m      6\u001b[0m     \u001b[1;32mdef\u001b[0m \u001b[0mname\u001b[0m\u001b[1;33m(\u001b[0m\u001b[0mself\u001b[0m\u001b[1;33m,\u001b[0m \u001b[0mname\u001b[0m\u001b[1;33m)\u001b[0m\u001b[1;33m:\u001b[0m\u001b[1;33m\u001b[0m\u001b[1;33m\u001b[0m\u001b[0m\n\u001b[0;32m      7\u001b[0m         \u001b[1;32mif\u001b[0m \u001b[1;32mnot\u001b[0m \u001b[0misinstance\u001b[0m\u001b[1;33m(\u001b[0m\u001b[0mname\u001b[0m\u001b[1;33m,\u001b[0m \u001b[0mstr\u001b[0m\u001b[1;33m)\u001b[0m\u001b[1;33m:\u001b[0m\u001b[1;33m\u001b[0m\u001b[1;33m\u001b[0m\u001b[0m\n\u001b[1;32m----> 8\u001b[1;33m             \u001b[1;32mraise\u001b[0m \u001b[0mTypeError\u001b[0m\u001b[1;33m(\u001b[0m\u001b[1;34m\"name must be a string\"\u001b[0m\u001b[1;33m)\u001b[0m\u001b[1;33m\u001b[0m\u001b[1;33m\u001b[0m\u001b[0m\n\u001b[0m\u001b[0;32m      9\u001b[0m         \u001b[0mself\u001b[0m\u001b[1;33m.\u001b[0m\u001b[0m__name\u001b[0m \u001b[1;33m=\u001b[0m \u001b[0mname\u001b[0m\u001b[1;33m\u001b[0m\u001b[1;33m\u001b[0m\u001b[0m\n",
      "\u001b[1;31mTypeError\u001b[0m: name must be a string"
     ]
    }
   ],
   "source": [
    "a = Test_name()\n",
    "a.name = 'John'\n",
    "print(a.name)\n",
    "a.name = 1"
   ]
  },
  {
   "cell_type": "markdown",
   "metadata": {},
   "source": [
    "### 多重继承"
   ]
  },
  {
   "cell_type": "markdown",
   "metadata": {},
   "source": [
    "当一个类能按多个标准分成子类时，例如动物分为哺乳类、鸟类或分为能飞、不能飞，如果组合成不同子类，子类个数随划分标准数指数增加，显然是不行的。  \n",
    "采用多重继承时一个类可以继承多个父类，这样只需按不同标准各自划分子类，然后根据子子类的特点继承所需的子类即可。"
   ]
  },
  {
   "cell_type": "code",
   "execution_count": 22,
   "metadata": {},
   "outputs": [],
   "source": [
    "class Animal(object):\n",
    "    def eat(self):\n",
    "        pass\n",
    "class Flyable(Animal):\n",
    "    def fly(self):\n",
    "        pass\n",
    "class Runnale(Animal):\n",
    "    def run(self):\n",
    "        pass\n",
    "class Mammal(Animal):\n",
    "    def baby(self):\n",
    "        pass\n",
    "class Bird(Animal):\n",
    "    def egg(self):\n",
    "        pass\n",
    "class Dog(Mammal, Runnale):\n",
    "    pass\n",
    "class Parrot(Bird, Flyable, Runnale):\n",
    "    pass\n"
   ]
  },
  {
   "cell_type": "code",
   "execution_count": 23,
   "metadata": {},
   "outputs": [],
   "source": [
    "dog = Dog()\n",
    "dog.eat()\n",
    "dog.run()\n",
    "dog.baby()\n",
    "parrot = Parrot()\n",
    "parrot.fly()\n",
    "parrot.egg()\n",
    "parrot.run()"
   ]
  },
  {
   "cell_type": "markdown",
   "metadata": {},
   "source": [
    "### 使用特殊方法定制类"
   ]
  },
  {
   "cell_type": "markdown",
   "metadata": {},
   "source": [
    "`__str__(self)`：返回`print(obj)`时显示内容。  \n",
    "`__repr__(self)`：返回直接调用实例变量`obj`时显示内容  \n",
    "`__iter__(self)`：返回`for ... in obj`时迭代的可迭代对象  \n",
    "`__next__(self)`：返回实例作为可迭代对象时要返回的下个元素，迭代结束时`raise StopIteration()`  \n",
    "`__getitem(self, key)`：返回调用`obj[key]`时应返回的对象，`n`可能是`int`，也可能是`slice`**等**，要作类型判断返回不同内容。  \n",
    "`__setitem(self, key, value)`：`obj[key] = value`。  \n",
    "`__getattr__(self, attr)`：调用属性或方法`obj.abc`时，若`abc`不存在，则调用该方法，将`abc`作为`str`传入`attr`进行动态处理。  \n",
    "`__call__(self)`：将实例当做方法直接调用`obj()`时调用该方法，`Callable(obj)`可判断`obj`是否可调用。方法`obj.method(args)`可理解为`method`是`obj`的一个可调用属性，调用时传入参数`args`。"
   ]
  },
  {
   "cell_type": "markdown",
   "metadata": {},
   "source": [
    "### 枚举类"
   ]
  },
  {
   "cell_type": "markdown",
   "metadata": {},
   "source": [
    "`Enum`的子类为枚举类，其类属性表示枚举项，属性名为key，值为value，枚举项中key不应重复，value不应可从外部修改。"
   ]
  },
  {
   "cell_type": "code",
   "execution_count": 1,
   "metadata": {},
   "outputs": [],
   "source": [
    "from enum import Enum, unique\n",
    "@unique\n",
    "class COLOR(Enum):\n",
    "    RED = 0\n",
    "    GREEN = 1\n",
    "    BLUE = 2"
   ]
  },
  {
   "cell_type": "code",
   "execution_count": 6,
   "metadata": {},
   "outputs": [
    {
     "name": "stdout",
     "output_type": "stream",
     "text": "COLOR.RED\nCOLOR.RED\nCOLOR.RED\nRED\n0\n"
    }
   ],
   "source": [
    "print(COLOR.RED)\n",
    "print(COLOR['RED'])\n",
    "print(COLOR(0))\n",
    "print(COLOR.RED.name)\n",
    "print(COLOR.RED.value)"
   ]
  },
  {
   "cell_type": "markdown",
   "metadata": {},
   "source": [
    "`COLOR.RED`、`COLOR['RED']`、`COLOR(0)`表示同一个枚举项，`COLOR.RED.name`为枚举名称`RED`，`COLOR.RED.value`为枚举值`0`。"
   ]
  },
  {
   "cell_type": "markdown",
   "metadata": {},
   "source": [
    "### 元类"
   ]
  },
  {
   "cell_type": "markdown",
   "metadata": {},
   "source": [
    "类在运行时动态创建，例如导入模块时执行模块中的所有语句时，遇到`class`时动态创建类。  \n",
    "`type`可返回对象的类，还可以创建新的类。`type('T', (FT,), dict(method=func))`，创建`T`类，继承`FT`，创建方法`method`为预先定义的函数`func`。  \n",
    "定义`metaclass`也可以创建类，就像定义类后可以创建实例，可认为类是`metaclass`的实例。创建类时，指定`metaclass`后，调用`metaclass`的`__new__`方法动态地创建类。  \n",
    "`__new__(cls, name, bases, attrs)`：返回动态创建的类定义，参数分别为当前准备创建的类、类名`str`、父类的`tuple`、类属性和方法的`dict`，对这些参数进行修改后再返回就可动态修改类的定义。"
   ]
  },
  {
   "cell_type": "code",
   "execution_count": 24,
   "metadata": {},
   "outputs": [],
   "source": [
    "class ListMetaclass(type):   # metaclass\n",
    "    def __new__(cls, name, bases, attrs):\n",
    "        attrs['add'] = lambda self, value: self.append(value)\n",
    "        return type.__new__(cls, name, bases, attrs)\n",
    "class MyList(list, metaclass=ListMetaclass):\n",
    "    pass"
   ]
  },
  {
   "cell_type": "code",
   "execution_count": 26,
   "metadata": {},
   "outputs": [
    {
     "name": "stdout",
     "output_type": "stream",
     "text": [
      "[1, 2, 3]\n"
     ]
    }
   ],
   "source": [
    "mls = MyList()\n",
    "mls.add(1)\n",
    "mls.add(2)\n",
    "mls.add(3)\n",
    "print(mls)"
   ]
  },
  {
   "cell_type": "markdown",
   "metadata": {},
   "source": [
    "## 错误处理、调试、测试"
   ]
  },
  {
   "cell_type": "markdown",
   "metadata": {},
   "source": [
    "### 异常处理"
   ]
  },
  {
   "cell_type": "markdown",
   "metadata": {},
   "source": [
    "程序的编写错误和用户输入错误可以修复或通过检查避免，但运行过程中还会发生难以预料的错误，比如磁盘写满，网络连接断开，称之为异常。异常会导致程序停止运行，因此需要使用异常处理机制进行处理，可保持程序正常运行。  \n",
    "```py\n",
    "try:\n",
    "    <code>\n",
    "except <SomeError> as <e>:\n",
    "    <code>\n",
    "except <AnotherError> as <e>:\n",
    "    <code>\n",
    "else:\n",
    "    <code>\n",
    "finally:\n",
    "    <code>\n",
    "```\n",
    "`try`内执行一段可能发生异常的代码，发生异常时，根据错误类型进入相应的`except`代码进行异常处理，`as`后为相应异常类的一个实例。  \n",
    "处理结束后不会再继续执行`try`中异常发生处后面的代码，而是执行`finally`中的代码，进行收尾工作（如释放内存，断开连接等），可以没有`finally`。  \n",
    "没有发生错误时可进入`else`。  \n",
    "某层调用发生异常时，异常不断向上抛出，直到被上面某层的`except`接收，因此只需在合适的上层代码处进行异常处理即可。如果未被上层代码接收，最终被解释器接收，打印异常信息，停止运行程序。  \n",
    "`logging.exception(e)`：打印异常栈。\n",
    "`raise <SomeError>(<message>)`：向上抛出异常。如果被某层`except`接收后无法处理，可在`excpet`中继续向上抛出。"
   ]
  },
  {
   "cell_type": "code",
   "execution_count": 8,
   "metadata": {},
   "outputs": [],
   "source": [
    "def divide(a, b):\n",
    "    if b == 0:\n",
    "        raise ValueError('should not be divided by 0')\n",
    "    return a / b"
   ]
  },
  {
   "cell_type": "code",
   "execution_count": 15,
   "metadata": {},
   "outputs": [
    {
     "name": "stderr",
     "output_type": "stream",
     "text": "ERROR:root:should not be divided by 0\nTraceback (most recent call last):\n  File \"<ipython-input-15-b5ea29233a88>\", line 3, in <module>\n    res = divide(1, 0)\n  File \"<ipython-input-8-060d3a0c2092>\", line 3, in divide\n    raise ValueError('should not be divided by 0')\nValueError: should not be divided by 0\nfinally\n"
    }
   ],
   "source": [
    "import logging\n",
    "try:\n",
    "    res = divide(1, 0)\n",
    "    print(res)\n",
    "except ValueError as e:\n",
    "    logging.exception(e)\n",
    "except TypeError as e:\n",
    "    logging.exception(e)\n",
    "else:\n",
    "    print('no error')\n",
    "finally:\n",
    "    print('finally')"
   ]
  },
  {
   "cell_type": "code",
   "execution_count": 16,
   "metadata": {},
   "outputs": [
    {
     "name": "stderr",
     "output_type": "stream",
     "text": "ERROR:root:unsupported operand type(s) for /: 'int' and 'str'\nTraceback (most recent call last):\n  File \"<ipython-input-16-818e2e3ccc1d>\", line 2, in <module>\n    res = divide(1, '1')\n  File \"<ipython-input-8-060d3a0c2092>\", line 4, in divide\n    return a / b\nTypeError: unsupported operand type(s) for /: 'int' and 'str'\nfinally\n"
    }
   ],
   "source": [
    "try:\n",
    "    res = divide(1, '1')\n",
    "    print(res)\n",
    "except ValueError as e:\n",
    "    logging.exception(e)\n",
    "except TypeError as e:\n",
    "    logging.exception(e)\n",
    "else:\n",
    "    print('no error')\n",
    "finally:\n",
    "    print('finally')"
   ]
  },
  {
   "cell_type": "code",
   "execution_count": 17,
   "metadata": {},
   "outputs": [
    {
     "name": "stdout",
     "output_type": "stream",
     "text": "1.0\nno error\nfinally\n"
    }
   ],
   "source": [
    "try:\n",
    "    res = divide(1, 1)\n",
    "    print(res)\n",
    "except ValueError as e:\n",
    "    logging.exception(e)\n",
    "except TypeError as e:\n",
    "    logging.exception(e)\n",
    "else:\n",
    "    print('no error')\n",
    "finally:\n",
    "    print('finally')"
   ]
  },
  {
   "cell_type": "markdown",
   "metadata": {},
   "source": [
    "### 调试"
   ]
  },
  {
   "cell_type": "markdown",
   "metadata": {},
   "source": [
    "`print(<message>)`：写起来麻烦，还得删除。\n",
    "`assert <condition>, <message>`：<condition>为`True`时，继续执行，为`False`时，抛出`AssertionError(<message>)`。`python -O <.py>`可以关闭`assert`。  \n",
    "`logging.<level>(<message>)`：在代码不同处设置打印信息，`<level>`可以是`debug`、`info`、`warning`、`error`，表示不同等级的信息。可以通过`logging.basicConfig(level=logging.<LEVEL>)`控制打印哪个级别或以上的信息。还可以设置信息打印到`console`还是文件。  \n",
    "`pdb`或IDE调试。  \n",
    "IDE调试方便，但`logging`功能最强大。"
   ]
  },
  {
   "cell_type": "markdown",
   "metadata": {},
   "source": [
    "### 测试"
   ]
  },
  {
   "cell_type": "markdown",
   "metadata": {},
   "source": [
    "使用`unittest`模块进行单元测试。继承`unittest.TestCase`的类为测试类，方法名为`test_<testname>()`的方法被认为是测试方法，可使用继承的`assert<Fucn>`方法来判断测试结果。  \n",
    "```py\n",
    "if __name__ == '__main__':\n",
    "    unittest.main()\n",
    "```\n",
    "可运行测试。  \n",
    "定义`setUp`和`tearDown`方法，分别在测试前和测试后执行，可分别进行初始化和收尾工作。"
   ]
  },
  {
   "cell_type": "code",
   "execution_count": 18,
   "metadata": {},
   "outputs": [],
   "source": [
    "def add_str(a, b):\n",
    "    return a + b"
   ]
  },
  {
   "cell_type": "code",
   "execution_count": 34,
   "metadata": {},
   "outputs": [],
   "source": [
    "import unittest\n",
    "class TestAddStr(unittest.TestCase):\n",
    "    def setUp(self):\n",
    "        print('set up')\n",
    "    def tearDown(self):\n",
    "        print('tear down')\n",
    "    def testRet(self):\n",
    "        print('testRet')\n",
    "        ret = add_str('a', 'b')\n",
    "        self.assertEqual(ret, 'ab')\n",
    "    def testType(self):\n",
    "        print('testType')\n",
    "        ret = add_str('a', 'b')\n",
    "        self.assertTrue(isinstance(ret, str))"
   ]
  },
  {
   "cell_type": "code",
   "execution_count": 35,
   "metadata": {},
   "outputs": [
    {
     "name": "stderr",
     "output_type": "stream",
     "text": "..set up\ntestRet\ntear down\nset up\ntestType\ntear down\n\n----------------------------------------------------------------------\nRan 2 tests in 0.002s\n\nOK\n"
    },
    {
     "data": {
      "text/plain": "<unittest.main.TestProgram at 0x2030500e288>"
     },
     "execution_count": 35,
     "metadata": {},
     "output_type": "execute_result"
    }
   ],
   "source": [
    "unittest.main(argv=['useless arg'], exit=False)   # Jupyter Notebook需要传参，在.py中运行时不需要"
   ]
  },
  {
   "cell_type": "markdown",
   "metadata": {},
   "source": [
    "### 文档测试"
   ]
  },
  {
   "cell_type": "markdown",
   "metadata": {},
   "source": [
    "使用`doctest`模块对注释中python交互式环境输入和执行的结果进行判断。  \n",
    "`doctest.testmod()`：执行注释中的交互式环境代码，判断结果是否于注释中给出的一致。"
   ]
  },
  {
   "cell_type": "markdown",
   "metadata": {},
   "source": [
    "## IO编程"
   ]
  },
  {
   "cell_type": "markdown",
   "metadata": {},
   "source": [
    "同步IO：CPU暂停执行程序，等待外设处理完毕后再继续执行。异步IO：程序继续执行其他程序，外设处理完毕后通知CPU。回调类似中断，轮询需要CPU执行其他任务时不断查询是否完成。"
   ]
  },
  {
   "cell_type": "markdown",
   "metadata": {},
   "source": [
    "### 文件读写"
   ]
  },
  {
   "cell_type": "markdown",
   "metadata": {},
   "source": [
    "文件读写是程序向操作系统申请打开文件，然后调用操作系统提供的接口读写文件。  \n",
    "`f = open(<filepath>, <mode>)`：打开`<filepath>`地址上的文件，根据`<mode>`决定读、写或追加文件。可选参数`encoding=`决定编码类型。\n"
   ]
  },
  {
   "cell_type": "markdown",
   "metadata": {},
   "source": [
    "`<mode>` | 含义  \n",
    ":-:|:-:\n",
    "`'r'` | 只读（默认） |\n",
    "`'w'` | 覆盖写（不可读，不存在则新创建；存在则重写新内容） |\n",
    "`'a'` | 追加（不可读，不存在则新创建；存在则只追加内容） |\n",
    "`'x'` | 创建写（不可读，不存在则新创建；存在则出错） |\n",
    "`'+'` | 与 `'r'`/`'w'`/`'a'`/`'x'` 一起使用，增加读写功能 |\n",
    "`'t'` | 文本（默认）\n",
    "`'b'` | 二进制"
   ]
  },
  {
   "cell_type": "markdown",
   "metadata": {},
   "source": [
    "`f.close()`：关闭文件。文件必须关闭，不然占用操作系统资源。文件读写出错时终止运行程序，会跳过关闭文件，需要用`try...finally`，或者用`with`自动调用`f.close()`。\n",
    "```py\n",
    "with open(<filepath>, <mode>) as f:\n",
    "    <code>\n",
    "```\n",
    "`f.read(size)`：一次性读取文件所有内容，返回`str`。未指定`size`会全部读入，文件过大会导致内存不够。  \n",
    "`f.readlines()`：一次性读取所有文件内容，返回每行内容为元素组成的`list`。  \n",
    "`f.write(<content>)`：写入文件。调用时操作系统不会立刻写入，会在空闲时写入。调用`close`方法时会把没写入的全部写入，因此跳过`close`方法时会导致写入不完整。"
   ]
  },
  {
   "cell_type": "markdown",
   "metadata": {},
   "source": [
    "```py\n",
    "with <expression> [as obj]:\n",
    "    <code>\n",
    "```\n",
    "建立上下文执行代码，`<expression>`返回一个对象，可由`obj`接收。进入`with`时调用返回对象的`__enter__`方法（返回对象自身给`obj`），退出时调用`__exit__`方法。因此在文件读写中，定义`f`的`__exit__`方法中执行`close`，即可保证无论什么原因退出`with`，都会执行`close`。"
   ]
  },
  {
   "cell_type": "code",
   "execution_count": 49,
   "metadata": {},
   "outputs": [],
   "source": [
    "class TestWith(object):\n",
    "    def __enter__(self):\n",
    "        print('enter')\n",
    "        return self\n",
    "    def __exit__(self, exc_type, exc_value, exc_trackback):\n",
    "        print('exit')\n",
    "    def method(self):\n",
    "        print('This is an instance of TestWith')"
   ]
  },
  {
   "cell_type": "code",
   "execution_count": 50,
   "metadata": {},
   "outputs": [
    {
     "name": "stdout",
     "output_type": "stream",
     "text": "enter\nThis is an instance of TestWith\nexit\n"
    }
   ],
   "source": [
    "with TestWith() as obj:\n",
    "    obj.method()"
   ]
  },
  {
   "cell_type": "markdown",
   "metadata": {},
   "source": [
    "### `StringIO`和`BytesIO`"
   ]
  },
  {
   "cell_type": "markdown",
   "metadata": {},
   "source": [
    "只要有`read`方法，都可以视作file-like Object。`StringIO`可以向**内存**读写`str`，`BytesIO`向**内存**读写`bytes`。"
   ]
  },
  {
   "cell_type": "markdown",
   "metadata": {},
   "source": [
    "### 操作文件和目录"
   ]
  },
  {
   "cell_type": "markdown",
   "metadata": {},
   "source": [
    "`os`模块提供了使用操作系统命令的函数。  \n",
    "`os.name`：操作系统类型。  \n",
    "`os.environ`：环境变量。  \n",
    "`os.path.abspath(<relpath>)`：返回相对地址的绝对地址。当前目录用`'.'`表示。  \n",
    "`os.path.join(<path1>, <path2>)`：返回拼接两个地址。  \n",
    "`os.path.split(<path>)`：返回拆分地址为两部分的`tuple`，后一部分总是最后一级的目录或文件。  \n",
    "`os,path.splitext(<path>)`：从扩展名处拆分，其余同上。  \n",
    "`os.mkdir(<path>)`：创建目录。  \n",
    "`os.rmdir(<path>)`：删除目录。"
   ]
  },
  {
   "cell_type": "code",
   "execution_count": 61,
   "metadata": {},
   "outputs": [],
   "source": [
    "import os\n",
    "def find_file_str(path, s):\n",
    "    for cata in os.listdir(path):\n",
    "        cata_path = os.path.join(path, cata)\n",
    "        if os.path.isfile(cata_path):\n",
    "            if s in cata:\n",
    "                print(os.path.abspath(cata_path))\n",
    "        elif os.path.isdir(cata_path):\n",
    "            find_file_str(cata_path, s)"
   ]
  },
  {
   "cell_type": "code",
   "execution_count": 62,
   "metadata": {},
   "outputs": [
    {
     "name": "stdout",
     "output_type": "stream",
     "text": "d:\\Workspaces\\VSCode\\exercise\\Python\\Flask_Exercise\\a\\ab\\momodeldel\nd:\\Workspaces\\VSCode\\exercise\\Python\\Flask_Exercise\\a\\smodel\nd:\\Workspaces\\VSCode\\exercise\\Python\\Flask_Exercise\\metamodel.py\nd:\\Workspaces\\VSCode\\exercise\\Python\\Flask_Exercise\\user_model.py\nd:\\Workspaces\\VSCode\\exercise\\Python\\Flask_Exercise\\__pycache__\\metamodel.cpython-37.pyc\n"
    }
   ],
   "source": [
    "find_file_str('.', 'model')"
   ]
  },
  {
   "cell_type": "markdown",
   "metadata": {},
   "source": [
    "### 序列化"
   ]
  },
  {
   "cell_type": "markdown",
   "metadata": {},
   "source": [
    "内存存储的变量转换为可存储或可传输的内容，`pickle.dump(<var>)`可将任意变量转换为二进制的`bytes`对象，然后可以`'rb'`、`'wb'`读写，只能用于python，兼容性差。  \n",
    "JSON是JavaScript语言描述的对象，是采用UTF-8编码的字符串，可用`json`库与`dict`互相转换。  \n",
    "`json.dumps(<dict>, default=<transfunc>)`：返回字典`dict`按JSON标准转换的字符串`str`。如果传入的是自定义类型，传入`<transfunc>`给出自定义类型到`dict`的转换函数。  \n",
    "`json.loads(<str>, object_hook=<transfunc>)`：返回字符串`str`按JSON标准解码的字典`dict`。如果要转换为自定义类型，`<transfunc>`给出`dict`到自定义类型的转换函数。"
   ]
  },
  {
   "cell_type": "code",
   "execution_count": 77,
   "metadata": {},
   "outputs": [
    {
     "name": "stdout",
     "output_type": "stream",
     "text": "<class 'str'> {\"name\": \"John\", \"age\": 22, \"pat\": null}\n<class 'dict'> {'name': 'Jiang', 'age': 22, 'pat': None}\n"
    }
   ],
   "source": [
    "import json\n",
    "d = dict(name='John', age=22, pat=None)\n",
    "js = json.dumps(d)\n",
    "print(type(js), js)\n",
    "js_str = '{\"name\": \"Jiang\", \"age\": 22, \"pat\": null}'\n",
    "d_str = json.loads(js_str)\n",
    "print(type(d_str), d_str)"
   ]
  },
  {
   "cell_type": "code",
   "execution_count": null,
   "metadata": {},
   "outputs": [],
   "source": []
  }
 ],
 "metadata": {
  "file_extension": ".py",
  "kernelspec": {
   "display_name": "Python 3",
   "language": "python",
   "name": "python3"
  },
  "language_info": {
   "codemirror_mode": {
    "name": "ipython",
    "version": 3
   },
   "file_extension": ".py",
   "mimetype": "text/x-python",
   "name": "python",
   "nbconvert_exporter": "python",
   "pygments_lexer": "ipython3",
   "version": "3.7.4-final"
  },
  "mimetype": "text/x-python",
  "name": "python",
  "npconvert_exporter": "python",
  "pygments_lexer": "ipython3",
  "version": 3
 },
 "nbformat": 4,
 "nbformat_minor": 2
}