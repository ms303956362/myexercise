{
 "cells": [
  {
   "cell_type": "code",
   "execution_count": 1,
   "source": [
    "import torch\r\n",
    "import pyro\r\n",
    "import pyro.distributions\r\n",
    "pyro.set_rng_seed(101)"
   ],
   "outputs": [],
   "metadata": {}
  },
  {
   "cell_type": "code",
   "execution_count": 2,
   "source": [
    "loc = 0\r\n",
    "scale = 1\r\n",
    "normal = torch.distributions.Normal(loc, scale)\r\n",
    "x = normal.rsample()\r\n",
    "print('sample', x)\r\n",
    "print('log prob', normal.log_prob(x))"
   ],
   "outputs": [
    {
     "output_type": "stream",
     "name": "stdout",
     "text": [
      "sample tensor(-1.3905)\n",
      "log prob tensor(-1.8857)\n"
     ]
    }
   ],
   "metadata": {}
  },
  {
   "cell_type": "code",
   "execution_count": 4,
   "source": [
    "a = torch.distributions.Bernoulli(0.3).sample()\r\n",
    "a"
   ],
   "outputs": [
    {
     "output_type": "execute_result",
     "data": {
      "text/plain": [
       "tensor(1.)"
      ]
     },
     "metadata": {},
     "execution_count": 4
    }
   ],
   "metadata": {}
  },
  {
   "cell_type": "code",
   "execution_count": 5,
   "source": [
    "def weather():\r\n",
    "    cloudy = torch.distributions.Bernoulli(0.3).sample()\r\n",
    "    cloudy = 'cloudy' if cloudy.item() == 1.0 else 'sunny'\r\n",
    "    mean_temp = {'cloudy': 55.0, 'sunny': 75.0}[cloudy]\r\n",
    "    scale_temp = {'cloudy': 10.0, 'sunny': 15.0}[cloudy]\r\n",
    "    temp = torch.distributions.Normal(mean_temp, scale_temp).rsample()\r\n",
    "    return cloudy, temp.item()"
   ],
   "outputs": [],
   "metadata": {}
  },
  {
   "cell_type": "code",
   "execution_count": 6,
   "source": [
    "x = pyro.sample('s', pyro.distributions.Normal(loc, scale))\r\n",
    "x"
   ],
   "outputs": [
    {
     "output_type": "execute_result",
     "data": {
      "text/plain": [
       "tensor(-0.8152)"
      ]
     },
     "metadata": {},
     "execution_count": 6
    }
   ],
   "metadata": {}
  },
  {
   "cell_type": "code",
   "execution_count": 7,
   "source": [
    "def weather():\r\n",
    "    cloudy = pyro.sample('cloudy', pyro.distributions.Bernoulli(0.3))\r\n",
    "    cloudy = 'cloudy' if cloudy.item() == 1.0 else 'sunny'\r\n",
    "    mean_temp = {'cloudy': 55.0, 'sunny': 75.0}[cloudy]\r\n",
    "    scale_temp = {'cloudy': 10.0, 'sunny': 15.0}[cloudy]\r\n",
    "    temp = pyro.sample('temp', pyro.distributions.Normal(mean_temp, scale_temp))\r\n",
    "    return cloudy, temp.item()\r\n",
    "\r\n",
    "for _ in range(3):\r\n",
    "    print(weather())"
   ],
   "outputs": [
    {
     "output_type": "stream",
     "name": "stdout",
     "text": [
      "('sunny', 70.28937530517578)\n",
      "('cloudy', 35.4540901184082)\n",
      "('sunny', 83.63148498535156)\n"
     ]
    }
   ],
   "metadata": {}
  },
  {
   "cell_type": "code",
   "execution_count": 8,
   "source": [
    "def ice_cream_sales():\r\n",
    "    cloudy, temp = weather()\r\n",
    "    expected_sales = 200. if cloudy == 'sunny' and temp > 80.0 else 50.\r\n",
    "    ice_cream = pyro.sample('ice_cream', pyro.distributions.Normal(expected_sales, 10.0))\r\n",
    "    return ice_cream"
   ],
   "outputs": [],
   "metadata": {}
  },
  {
   "cell_type": "code",
   "execution_count": 10,
   "source": [
    "print(ice_cream_sales())"
   ],
   "outputs": [
    {
     "output_type": "stream",
     "name": "stdout",
     "text": [
      "tensor(56.4576)\n"
     ]
    }
   ],
   "metadata": {}
  },
  {
   "cell_type": "code",
   "execution_count": 11,
   "source": [
    "def geometric(p, t=None):\r\n",
    "    if t is None:\r\n",
    "        t = 0\r\n",
    "    x = pyro.sample('x_{}'.format(t), pyro.distributions.Bernoulli(p))\r\n",
    "    if x.item() == 1:\r\n",
    "        return 0\r\n",
    "    else:\r\n",
    "        return 1 + geometric(p, t + 1)\r\n",
    "print(geometric(0.5))"
   ],
   "outputs": [
    {
     "output_type": "stream",
     "name": "stdout",
     "text": [
      "0\n"
     ]
    }
   ],
   "metadata": {}
  },
  {
   "cell_type": "code",
   "execution_count": 12,
   "source": [
    "print(geometric(0.5))"
   ],
   "outputs": [
    {
     "output_type": "stream",
     "name": "stdout",
     "text": [
      "0\n"
     ]
    }
   ],
   "metadata": {}
  },
  {
   "cell_type": "code",
   "execution_count": 13,
   "source": [
    "print(geometric(0.5))"
   ],
   "outputs": [
    {
     "output_type": "stream",
     "name": "stdout",
     "text": [
      "1\n"
     ]
    }
   ],
   "metadata": {}
  },
  {
   "cell_type": "code",
   "execution_count": 14,
   "source": [
    "print(geometric(0.5))"
   ],
   "outputs": [
    {
     "output_type": "stream",
     "name": "stdout",
     "text": [
      "1\n"
     ]
    }
   ],
   "metadata": {}
  },
  {
   "cell_type": "code",
   "execution_count": null,
   "source": [],
   "outputs": [],
   "metadata": {}
  }
 ],
 "metadata": {
  "orig_nbformat": 4,
  "language_info": {
   "name": "python",
   "version": "3.8.10",
   "mimetype": "text/x-python",
   "codemirror_mode": {
    "name": "ipython",
    "version": 3
   },
   "pygments_lexer": "ipython3",
   "nbconvert_exporter": "python",
   "file_extension": ".py"
  },
  "kernelspec": {
   "name": "python3",
   "display_name": "Python 3.8.10 64-bit ('pytorch': conda)"
  },
  "interpreter": {
   "hash": "0880307fe4f339e886186c74363b54071267077a55ac0fefcae481cc764d419b"
  }
 },
 "nbformat": 4,
 "nbformat_minor": 2
}