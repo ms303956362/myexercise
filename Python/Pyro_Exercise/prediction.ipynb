{
 "cells": [
  {
   "cell_type": "markdown",
   "source": [
    "# Probabilistic Prediction of PV Generation"
   ],
   "metadata": {}
  },
  {
   "cell_type": "markdown",
   "source": [
    "## Import Libraries"
   ],
   "metadata": {}
  },
  {
   "cell_type": "code",
   "execution_count": 37,
   "source": [
    "%reset -s -f\r\n",
    "import os\r\n",
    "from functools import partial\r\n",
    "import torch\r\n",
    "import numpy as np\r\n",
    "import pandas as pd\r\n",
    "import seaborn as sns\r\n",
    "import matplotlib.pyplot as plt\r\n",
    "\r\n",
    "import pyro\r\n",
    "import pyro.distributions as dist\r\n",
    "\r\n",
    "from sklearn.model_selection import train_test_split\r\n",
    "\r\n",
    "# for CI testing\r\n",
    "smoke_test = ('CI' in os.environ)\r\n",
    "assert pyro.__version__.startswith('1.7.0')\r\n",
    "pyro.set_rng_seed(1)\r\n",
    "\r\n",
    "\r\n",
    "# Set matplotlib settings\r\n",
    "%matplotlib inline\r\n",
    "plt.style.use('default')"
   ],
   "outputs": [],
   "metadata": {}
  },
  {
   "cell_type": "markdown",
   "source": [
    "## Input Data"
   ],
   "metadata": {}
  },
  {
   "cell_type": "code",
   "execution_count": 38,
   "source": [
    "generation_file = './Plant_1_Generation_Data.csv'\r\n",
    "plant1_gen_data = pd.read_csv(generation_file)\r\n",
    "plant1_gen_data['DATE_TIME'] = pd.to_datetime(plant1_gen_data['DATE_TIME'], errors='coerce')\r\n",
    "plant1_gen_data = plant1_gen_data.groupby('DATE_TIME')[['DC_POWER','AC_POWER', 'DAILY_YIELD','TOTAL_YIELD']].agg('sum')\r\n",
    "plant1_gen_data = plant1_gen_data.reset_index()\r\n",
    "plant1_gen_data.tail()"
   ],
   "outputs": [
    {
     "output_type": "execute_result",
     "data": {
      "text/html": [
       "<div>\n",
       "<style scoped>\n",
       "    .dataframe tbody tr th:only-of-type {\n",
       "        vertical-align: middle;\n",
       "    }\n",
       "\n",
       "    .dataframe tbody tr th {\n",
       "        vertical-align: top;\n",
       "    }\n",
       "\n",
       "    .dataframe thead th {\n",
       "        text-align: right;\n",
       "    }\n",
       "</style>\n",
       "<table border=\"1\" class=\"dataframe\">\n",
       "  <thead>\n",
       "    <tr style=\"text-align: right;\">\n",
       "      <th></th>\n",
       "      <th>DATE_TIME</th>\n",
       "      <th>DC_POWER</th>\n",
       "      <th>AC_POWER</th>\n",
       "      <th>DAILY_YIELD</th>\n",
       "      <th>TOTAL_YIELD</th>\n",
       "    </tr>\n",
       "  </thead>\n",
       "  <tbody>\n",
       "    <tr>\n",
       "      <th>3153</th>\n",
       "      <td>2020-12-06 22:45:00</td>\n",
       "      <td>0.0</td>\n",
       "      <td>0.0</td>\n",
       "      <td>127815.000000</td>\n",
       "      <td>155388778.0</td>\n",
       "    </tr>\n",
       "    <tr>\n",
       "      <th>3154</th>\n",
       "      <td>2020-12-06 23:00:00</td>\n",
       "      <td>0.0</td>\n",
       "      <td>0.0</td>\n",
       "      <td>127815.000000</td>\n",
       "      <td>155388778.0</td>\n",
       "    </tr>\n",
       "    <tr>\n",
       "      <th>3155</th>\n",
       "      <td>2020-12-06 23:15:00</td>\n",
       "      <td>0.0</td>\n",
       "      <td>0.0</td>\n",
       "      <td>127815.000000</td>\n",
       "      <td>155388778.0</td>\n",
       "    </tr>\n",
       "    <tr>\n",
       "      <th>3156</th>\n",
       "      <td>2020-12-06 23:30:00</td>\n",
       "      <td>0.0</td>\n",
       "      <td>0.0</td>\n",
       "      <td>127815.000000</td>\n",
       "      <td>155388778.0</td>\n",
       "    </tr>\n",
       "    <tr>\n",
       "      <th>3157</th>\n",
       "      <td>2020-12-06 23:45:00</td>\n",
       "      <td>0.0</td>\n",
       "      <td>0.0</td>\n",
       "      <td>115458.196429</td>\n",
       "      <td>155388778.0</td>\n",
       "    </tr>\n",
       "  </tbody>\n",
       "</table>\n",
       "</div>"
      ],
      "text/plain": [
       "               DATE_TIME  DC_POWER  AC_POWER    DAILY_YIELD  TOTAL_YIELD\n",
       "3153 2020-12-06 22:45:00       0.0       0.0  127815.000000  155388778.0\n",
       "3154 2020-12-06 23:00:00       0.0       0.0  127815.000000  155388778.0\n",
       "3155 2020-12-06 23:15:00       0.0       0.0  127815.000000  155388778.0\n",
       "3156 2020-12-06 23:30:00       0.0       0.0  127815.000000  155388778.0\n",
       "3157 2020-12-06 23:45:00       0.0       0.0  115458.196429  155388778.0"
      ]
     },
     "metadata": {},
     "execution_count": 38
    }
   ],
   "metadata": {}
  },
  {
   "cell_type": "code",
   "execution_count": 39,
   "source": [
    "plant1_gen_data.info()"
   ],
   "outputs": [
    {
     "output_type": "stream",
     "name": "stdout",
     "text": [
      "<class 'pandas.core.frame.DataFrame'>\n",
      "RangeIndex: 3158 entries, 0 to 3157\n",
      "Data columns (total 5 columns):\n",
      " #   Column       Non-Null Count  Dtype         \n",
      "---  ------       --------------  -----         \n",
      " 0   DATE_TIME    3158 non-null   datetime64[ns]\n",
      " 1   DC_POWER     3158 non-null   float64       \n",
      " 2   AC_POWER     3158 non-null   float64       \n",
      " 3   DAILY_YIELD  3158 non-null   float64       \n",
      " 4   TOTAL_YIELD  3158 non-null   float64       \n",
      "dtypes: datetime64[ns](1), float64(4)\n",
      "memory usage: 123.5 KB\n"
     ]
    }
   ],
   "metadata": {}
  },
  {
   "cell_type": "code",
   "execution_count": 40,
   "source": [
    "weather_file = './Plant_1_Weather_Sensor_Data.csv'\r\n",
    "plant1_wea_data = pd.read_csv(weather_file)\r\n",
    "plant1_wea_data['DATE_TIME'] = pd.to_datetime(plant1_wea_data['DATE_TIME'], errors='coerce')\r\n",
    "plant1_wea_data.info()"
   ],
   "outputs": [
    {
     "output_type": "stream",
     "name": "stdout",
     "text": [
      "<class 'pandas.core.frame.DataFrame'>\n",
      "RangeIndex: 3182 entries, 0 to 3181\n",
      "Data columns (total 6 columns):\n",
      " #   Column               Non-Null Count  Dtype         \n",
      "---  ------               --------------  -----         \n",
      " 0   DATE_TIME            3182 non-null   datetime64[ns]\n",
      " 1   PLANT_ID             3182 non-null   int64         \n",
      " 2   SOURCE_KEY           3182 non-null   object        \n",
      " 3   AMBIENT_TEMPERATURE  3182 non-null   float64       \n",
      " 4   MODULE_TEMPERATURE   3182 non-null   float64       \n",
      " 5   IRRADIATION          3182 non-null   float64       \n",
      "dtypes: datetime64[ns](1), float64(3), int64(1), object(1)\n",
      "memory usage: 149.3+ KB\n"
     ]
    }
   ],
   "metadata": {}
  },
  {
   "cell_type": "code",
   "execution_count": 41,
   "source": [
    "plant1_wea_data.tail()"
   ],
   "outputs": [
    {
     "output_type": "execute_result",
     "data": {
      "text/html": [
       "<div>\n",
       "<style scoped>\n",
       "    .dataframe tbody tr th:only-of-type {\n",
       "        vertical-align: middle;\n",
       "    }\n",
       "\n",
       "    .dataframe tbody tr th {\n",
       "        vertical-align: top;\n",
       "    }\n",
       "\n",
       "    .dataframe thead th {\n",
       "        text-align: right;\n",
       "    }\n",
       "</style>\n",
       "<table border=\"1\" class=\"dataframe\">\n",
       "  <thead>\n",
       "    <tr style=\"text-align: right;\">\n",
       "      <th></th>\n",
       "      <th>DATE_TIME</th>\n",
       "      <th>PLANT_ID</th>\n",
       "      <th>SOURCE_KEY</th>\n",
       "      <th>AMBIENT_TEMPERATURE</th>\n",
       "      <th>MODULE_TEMPERATURE</th>\n",
       "      <th>IRRADIATION</th>\n",
       "    </tr>\n",
       "  </thead>\n",
       "  <tbody>\n",
       "    <tr>\n",
       "      <th>3177</th>\n",
       "      <td>2020-06-17 22:45:00</td>\n",
       "      <td>4135001</td>\n",
       "      <td>HmiyD2TTLFNqkNe</td>\n",
       "      <td>22.150570</td>\n",
       "      <td>21.480377</td>\n",
       "      <td>0.0</td>\n",
       "    </tr>\n",
       "    <tr>\n",
       "      <th>3178</th>\n",
       "      <td>2020-06-17 23:00:00</td>\n",
       "      <td>4135001</td>\n",
       "      <td>HmiyD2TTLFNqkNe</td>\n",
       "      <td>22.129816</td>\n",
       "      <td>21.389024</td>\n",
       "      <td>0.0</td>\n",
       "    </tr>\n",
       "    <tr>\n",
       "      <th>3179</th>\n",
       "      <td>2020-06-17 23:15:00</td>\n",
       "      <td>4135001</td>\n",
       "      <td>HmiyD2TTLFNqkNe</td>\n",
       "      <td>22.008275</td>\n",
       "      <td>20.709211</td>\n",
       "      <td>0.0</td>\n",
       "    </tr>\n",
       "    <tr>\n",
       "      <th>3180</th>\n",
       "      <td>2020-06-17 23:30:00</td>\n",
       "      <td>4135001</td>\n",
       "      <td>HmiyD2TTLFNqkNe</td>\n",
       "      <td>21.969495</td>\n",
       "      <td>20.734963</td>\n",
       "      <td>0.0</td>\n",
       "    </tr>\n",
       "    <tr>\n",
       "      <th>3181</th>\n",
       "      <td>2020-06-17 23:45:00</td>\n",
       "      <td>4135001</td>\n",
       "      <td>HmiyD2TTLFNqkNe</td>\n",
       "      <td>21.909288</td>\n",
       "      <td>20.427972</td>\n",
       "      <td>0.0</td>\n",
       "    </tr>\n",
       "  </tbody>\n",
       "</table>\n",
       "</div>"
      ],
      "text/plain": [
       "               DATE_TIME  PLANT_ID       SOURCE_KEY  AMBIENT_TEMPERATURE  \\\n",
       "3177 2020-06-17 22:45:00   4135001  HmiyD2TTLFNqkNe            22.150570   \n",
       "3178 2020-06-17 23:00:00   4135001  HmiyD2TTLFNqkNe            22.129816   \n",
       "3179 2020-06-17 23:15:00   4135001  HmiyD2TTLFNqkNe            22.008275   \n",
       "3180 2020-06-17 23:30:00   4135001  HmiyD2TTLFNqkNe            21.969495   \n",
       "3181 2020-06-17 23:45:00   4135001  HmiyD2TTLFNqkNe            21.909288   \n",
       "\n",
       "      MODULE_TEMPERATURE  IRRADIATION  \n",
       "3177           21.480377          0.0  \n",
       "3178           21.389024          0.0  \n",
       "3179           20.709211          0.0  \n",
       "3180           20.734963          0.0  \n",
       "3181           20.427972          0.0  "
      ]
     },
     "metadata": {},
     "execution_count": 41
    }
   ],
   "metadata": {}
  },
  {
   "cell_type": "code",
   "execution_count": 42,
   "source": [
    "plant1_data = plant1_wea_data.merge(plant1_gen_data, left_on='DATE_TIME', right_on='DATE_TIME')\r\n",
    "del plant1_data['PLANT_ID']\r\n",
    "del plant1_data['SOURCE_KEY']\r\n",
    "del plant1_data['DAILY_YIELD']\r\n",
    "del plant1_data['TOTAL_YIELD']\r\n",
    "plant1_data = plant1_data.assign(DELTA_TEMPERATURE = abs(plant1_data.MODULE_TEMPERATURE - plant1_data.AMBIENT_TEMPERATURE))\r\n",
    "plant1_data.info()"
   ],
   "outputs": [
    {
     "output_type": "stream",
     "name": "stdout",
     "text": [
      "<class 'pandas.core.frame.DataFrame'>\n",
      "Int64Index: 2102 entries, 0 to 2101\n",
      "Data columns (total 7 columns):\n",
      " #   Column               Non-Null Count  Dtype         \n",
      "---  ------               --------------  -----         \n",
      " 0   DATE_TIME            2102 non-null   datetime64[ns]\n",
      " 1   AMBIENT_TEMPERATURE  2102 non-null   float64       \n",
      " 2   MODULE_TEMPERATURE   2102 non-null   float64       \n",
      " 3   IRRADIATION          2102 non-null   float64       \n",
      " 4   DC_POWER             2102 non-null   float64       \n",
      " 5   AC_POWER             2102 non-null   float64       \n",
      " 6   DELTA_TEMPERATURE    2102 non-null   float64       \n",
      "dtypes: datetime64[ns](1), float64(6)\n",
      "memory usage: 131.4 KB\n"
     ]
    }
   ],
   "metadata": {}
  },
  {
   "cell_type": "code",
   "execution_count": 43,
   "source": [
    "plant1_data.tail()"
   ],
   "outputs": [
    {
     "output_type": "execute_result",
     "data": {
      "text/html": [
       "<div>\n",
       "<style scoped>\n",
       "    .dataframe tbody tr th:only-of-type {\n",
       "        vertical-align: middle;\n",
       "    }\n",
       "\n",
       "    .dataframe tbody tr th {\n",
       "        vertical-align: top;\n",
       "    }\n",
       "\n",
       "    .dataframe thead th {\n",
       "        text-align: right;\n",
       "    }\n",
       "</style>\n",
       "<table border=\"1\" class=\"dataframe\">\n",
       "  <thead>\n",
       "    <tr style=\"text-align: right;\">\n",
       "      <th></th>\n",
       "      <th>DATE_TIME</th>\n",
       "      <th>AMBIENT_TEMPERATURE</th>\n",
       "      <th>MODULE_TEMPERATURE</th>\n",
       "      <th>IRRADIATION</th>\n",
       "      <th>DC_POWER</th>\n",
       "      <th>AC_POWER</th>\n",
       "      <th>DELTA_TEMPERATURE</th>\n",
       "    </tr>\n",
       "  </thead>\n",
       "  <tbody>\n",
       "    <tr>\n",
       "      <th>2097</th>\n",
       "      <td>2020-06-17 22:45:00</td>\n",
       "      <td>22.150570</td>\n",
       "      <td>21.480377</td>\n",
       "      <td>0.0</td>\n",
       "      <td>0.0</td>\n",
       "      <td>0.0</td>\n",
       "      <td>0.670192</td>\n",
       "    </tr>\n",
       "    <tr>\n",
       "      <th>2098</th>\n",
       "      <td>2020-06-17 23:00:00</td>\n",
       "      <td>22.129816</td>\n",
       "      <td>21.389024</td>\n",
       "      <td>0.0</td>\n",
       "      <td>0.0</td>\n",
       "      <td>0.0</td>\n",
       "      <td>0.740792</td>\n",
       "    </tr>\n",
       "    <tr>\n",
       "      <th>2099</th>\n",
       "      <td>2020-06-17 23:15:00</td>\n",
       "      <td>22.008275</td>\n",
       "      <td>20.709211</td>\n",
       "      <td>0.0</td>\n",
       "      <td>0.0</td>\n",
       "      <td>0.0</td>\n",
       "      <td>1.299063</td>\n",
       "    </tr>\n",
       "    <tr>\n",
       "      <th>2100</th>\n",
       "      <td>2020-06-17 23:30:00</td>\n",
       "      <td>21.969495</td>\n",
       "      <td>20.734963</td>\n",
       "      <td>0.0</td>\n",
       "      <td>0.0</td>\n",
       "      <td>0.0</td>\n",
       "      <td>1.234532</td>\n",
       "    </tr>\n",
       "    <tr>\n",
       "      <th>2101</th>\n",
       "      <td>2020-06-17 23:45:00</td>\n",
       "      <td>21.909288</td>\n",
       "      <td>20.427972</td>\n",
       "      <td>0.0</td>\n",
       "      <td>0.0</td>\n",
       "      <td>0.0</td>\n",
       "      <td>1.481315</td>\n",
       "    </tr>\n",
       "  </tbody>\n",
       "</table>\n",
       "</div>"
      ],
      "text/plain": [
       "               DATE_TIME  AMBIENT_TEMPERATURE  MODULE_TEMPERATURE  \\\n",
       "2097 2020-06-17 22:45:00            22.150570           21.480377   \n",
       "2098 2020-06-17 23:00:00            22.129816           21.389024   \n",
       "2099 2020-06-17 23:15:00            22.008275           20.709211   \n",
       "2100 2020-06-17 23:30:00            21.969495           20.734963   \n",
       "2101 2020-06-17 23:45:00            21.909288           20.427972   \n",
       "\n",
       "      IRRADIATION  DC_POWER  AC_POWER  DELTA_TEMPERATURE  \n",
       "2097          0.0       0.0       0.0           0.670192  \n",
       "2098          0.0       0.0       0.0           0.740792  \n",
       "2099          0.0       0.0       0.0           1.299063  \n",
       "2100          0.0       0.0       0.0           1.234532  \n",
       "2101          0.0       0.0       0.0           1.481315  "
      ]
     },
     "metadata": {},
     "execution_count": 43
    }
   ],
   "metadata": {}
  },
  {
   "cell_type": "code",
   "execution_count": 44,
   "source": [
    "input_features = plant1_data[['DELTA_TEMPERATURE', 'MODULE_TEMPERATURE', 'IRRADIATION']]\r\n",
    "pv_generation = plant1_data['DC_POWER']\r\n",
    "X_train, X_test, y_train, y_test = train_test_split(input_features, pv_generation, test_size=0.1, shuffle = False)"
   ],
   "outputs": [],
   "metadata": {}
  },
  {
   "cell_type": "code",
   "execution_count": 45,
   "source": [
    "X_train = torch.tensor(X_train.values, dtype=torch.float)\r\n",
    "y_train = torch.tensor(y_train.values, dtype=torch.float) / 1000\r\n",
    "X_test =  torch.tensor(X_test.values, dtype=torch.float)\r\n",
    "y_test = torch.tensor(y_test.values, dtype=torch.float) / 1000"
   ],
   "outputs": [],
   "metadata": {}
  },
  {
   "cell_type": "code",
   "execution_count": 46,
   "source": [
    "print(X_train.shape)\r\n",
    "print(y_train.shape)\r\n",
    "print(X_test.shape)\r\n",
    "print(y_test.shape)"
   ],
   "outputs": [
    {
     "output_type": "stream",
     "name": "stdout",
     "text": [
      "torch.Size([1891, 3])\n",
      "torch.Size([1891])\n",
      "torch.Size([211, 3])\n",
      "torch.Size([211])\n"
     ]
    }
   ],
   "metadata": {}
  },
  {
   "cell_type": "markdown",
   "source": [
    "## Build Model"
   ],
   "metadata": {}
  },
  {
   "cell_type": "code",
   "execution_count": 47,
   "source": [
    "from torch import nn\r\n",
    "from pyro.nn import PyroModule\r\n",
    "from pyro.nn import PyroSample\r\n",
    "assert issubclass(PyroModule[nn.Linear], nn.Linear)\r\n",
    "assert issubclass(PyroModule[nn.Linear], PyroModule)\r\n",
    "\r\n",
    "\r\n",
    "class BayesianRegression(PyroModule):\r\n",
    "    def __init__(self, in_features, out_features):\r\n",
    "        super().__init__()\r\n",
    "        self.linear = PyroModule[nn.Linear](in_features, out_features)\r\n",
    "        self.linear.weight = PyroSample(dist.Normal(0., 10.).expand([out_features, in_features]).to_event(2))\r\n",
    "        self.linear.bias = PyroSample(dist.Normal(0., 100.).expand([out_features]).to_event(1))\r\n",
    "\r\n",
    "    def forward(self, x, y=None):\r\n",
    "        sigma = pyro.sample(\"sigma\", dist.Uniform(0., 10.))\r\n",
    "        mean = self.linear(x).squeeze(-1)\r\n",
    "        with pyro.plate(\"data\", x.shape[0]):\r\n",
    "            obs = pyro.sample(\"obs\", dist.Normal(mean, sigma), obs=y)\r\n",
    "        return mean"
   ],
   "outputs": [],
   "metadata": {}
  },
  {
   "cell_type": "code",
   "execution_count": 48,
   "source": [
    "from pyro.infer.autoguide import AutoDiagonalNormal\r\n",
    "\r\n",
    "model = BayesianRegression(3, 1)\r\n",
    "guide = AutoDiagonalNormal(model)"
   ],
   "outputs": [],
   "metadata": {}
  },
  {
   "cell_type": "code",
   "execution_count": 49,
   "source": [
    "from pyro.infer import SVI, Trace_ELBO\r\n",
    "\r\n",
    "\r\n",
    "adam = pyro.optim.Adam({\"lr\": 0.03})\r\n",
    "svi = SVI(model, guide, adam, loss=Trace_ELBO())"
   ],
   "outputs": [],
   "metadata": {}
  },
  {
   "cell_type": "code",
   "execution_count": 50,
   "source": [
    "pyro.clear_param_store()\r\n",
    "num_iterations = 200 if not smoke_test else 2\r\n",
    "y_train += torch.randn(y_train.shape) * 10\r\n",
    "for j in range(num_iterations):\r\n",
    "    # calculate the loss and take a gradient step\r\n",
    "    loss = svi.step(X_train, y_train)\r\n",
    "    if j % 100 == 0:\r\n",
    "        print(\"[iteration %04d] loss: %.4f\" % (j + 1, loss / len(y_train)))"
   ],
   "outputs": [
    {
     "output_type": "stream",
     "name": "stdout",
     "text": [
      "[iteration 0001] loss: 173.1835\n",
      "[iteration 0101] loss: 12.9427\n"
     ]
    }
   ],
   "metadata": {}
  },
  {
   "cell_type": "code",
   "execution_count": 51,
   "source": [
    "guide.quantiles([0.25, 0.5, 0.75])"
   ],
   "outputs": [
    {
     "output_type": "execute_result",
     "data": {
      "text/plain": [
       "{'sigma': tensor([7.5500, 7.6761, 7.7976]),\n",
       " 'linear.weight': tensor([[[5.6702, 1.5849, 5.6359]],\n",
       " \n",
       "         [[5.7413, 1.6395, 5.7237]],\n",
       " \n",
       "         [[5.8124, 1.6940, 5.8115]]]),\n",
       " 'linear.bias': tensor([[-19.7242],\n",
       "         [-19.6676],\n",
       "         [-19.6110]])}"
      ]
     },
     "metadata": {},
     "execution_count": 51
    }
   ],
   "metadata": {}
  },
  {
   "cell_type": "code",
   "execution_count": 52,
   "source": [
    "from pyro.infer import Predictive\r\n",
    "\r\n",
    "\r\n",
    "def summary(samples):\r\n",
    "    site_stats = {}\r\n",
    "    for k, v in samples.items():\r\n",
    "        site_stats[k] = {\r\n",
    "            \"mean\": torch.mean(v, 0),\r\n",
    "            \"std\": torch.std(v, 0),\r\n",
    "            \"5%\": v.kthvalue(int(len(v) * 0.05), dim=0)[0],\r\n",
    "            \"95%\": v.kthvalue(int(len(v) * 0.95), dim=0)[0],\r\n",
    "        }\r\n",
    "    return site_stats\r\n",
    "\r\n",
    "\r\n",
    "predictive = Predictive(model, guide=guide, num_samples=800,\r\n",
    "                        return_sites=(\"linear.weight\", \"obs\", \"_RETURN\"))\r\n",
    "samples = predictive(X_test)\r\n",
    "pred_summary = summary(samples)"
   ],
   "outputs": [],
   "metadata": {}
  },
  {
   "cell_type": "code",
   "execution_count": 53,
   "source": [
    "mu = pred_summary[\"_RETURN\"]\r\n",
    "y = pred_summary[\"obs\"]\r\n",
    "predictions = pd.DataFrame({\r\n",
    "    \"DT\": X_test[:, 0],\r\n",
    "    \"MT\": X_test[:, 1],\r\n",
    "    \"IR\": X_test[:, 2],\r\n",
    "    \"mu_mean\": mu[\"mean\"],\r\n",
    "    \"mu_perc_5\": mu[\"5%\"],\r\n",
    "    \"mu_perc_95\": mu[\"95%\"],\r\n",
    "    \"y_mean\": y[\"mean\"],\r\n",
    "    \"y_perc_5\": y[\"5%\"],\r\n",
    "    \"y_perc_95\": y[\"95%\"],\r\n",
    "    \"true_gen\": y_test,\r\n",
    "})"
   ],
   "outputs": [],
   "metadata": {}
  },
  {
   "cell_type": "code",
   "execution_count": 54,
   "source": [
    "fig, ax = plt.subplots(nrows=1, ncols=1, figsize=(12, 6), sharey=True)\r\n",
    "fig.suptitle(\"Regression line 90% CI\", fontsize=16)\r\n",
    "x_array = [i for i in range(len(y_test))]\r\n",
    "ax.plot(x_array,\r\n",
    "           predictions[\"mu_mean\"])\r\n",
    "# ax.plot(x_array,\r\n",
    "# [t.item() for t in predictions[\"mu_perc_5\"]])\r\n",
    "# ax.plot(x_array,\r\n",
    "# [t.item() for t in predictions[\"mu_perc_95\"]])\r\n",
    "ax.fill_between(x_array,\r\n",
    "                   [t.item() for t in predictions[\"mu_perc_5\"]],\r\n",
    "                   [t.item() for t in predictions[\"mu_perc_95\"]],\r\n",
    "                   alpha=0.5)\r\n",
    "ax.plot(x_array,\r\n",
    "           predictions[\"true_gen\"],\r\n",
    "           \"o\")\r\n",
    "ax.set(xlabel=\"Index\",\r\n",
    "          ylabel=\"PV generation\",\r\n",
    "          title=\"Interval prediction\")"
   ],
   "outputs": [
    {
     "output_type": "execute_result",
     "data": {
      "text/plain": [
       "[Text(0.5, 0, 'Index'),\n",
       " Text(0, 0.5, 'PV generation'),\n",
       " Text(0.5, 1.0, 'Interval prediction')]"
      ]
     },
     "metadata": {},
     "execution_count": 54
    },
    {
     "output_type": "display_data",
     "data": {
      "image/png": "[encoded data removed]",
      "text/plain": [
       "<Figure size 1200x600 with 1 Axes>"
      ]
     },
     "metadata": {}
    }
   ],
   "metadata": {}
  },
  {
   "cell_type": "code",
   "execution_count": null,
   "source": [],
   "outputs": [],
   "metadata": {}
  }
 ],
 "metadata": {
  "orig_nbformat": 4,
  "language_info": {
   "name": "python",
   "version": "3.8.10",
   "mimetype": "text/x-python",
   "codemirror_mode": {
    "name": "ipython",
    "version": 3
   },
   "pygments_lexer": "ipython3",
   "nbconvert_exporter": "python",
   "file_extension": ".py"
  },
  "kernelspec": {
   "name": "python3",
   "display_name": "Python 3.8.10 64-bit ('pytorch': conda)"
  },
  "interpreter": {
   "hash": "0880307fe4f339e886186c74363b54071267077a55ac0fefcae481cc764d419b"
  }
 },
 "nbformat": 4,
 "nbformat_minor": 2
}